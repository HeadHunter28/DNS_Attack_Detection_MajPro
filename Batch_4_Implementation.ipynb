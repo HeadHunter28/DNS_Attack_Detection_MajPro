{
  "cells": [
    {
      "cell_type": "markdown",
      "metadata": {
        "id": "view-in-github",
        "colab_type": "text"
      },
      "source": [
        "<a href=\"https://colab.research.google.com/github/HeadHunter28/DNS_Attack_Detection_MajPro/blob/main/Batch_4_Implementation.ipynb\" target=\"_parent\"><img src=\"https://colab.research.google.com/assets/colab-badge.svg\" alt=\"Open In Colab\"/></a>"
      ]
    },
    {
      "cell_type": "markdown",
      "id": "79665e82",
      "metadata": {
        "id": "79665e82"
      },
      "source": [
        "## DNS Attack Detection using Machine Learning"
      ]
    },
    {
      "cell_type": "markdown",
      "id": "4d0b4b5c",
      "metadata": {
        "id": "4d0b4b5c"
      },
      "source": []
    },
    {
      "cell_type": "code",
      "source": [],
      "metadata": {
        "id": "KreK5Ewnd3HP",
        "outputId": "31529a1a-4fc3-4bca-d324-d9b7e687c6b5",
        "colab": {
          "base_uri": "https://localhost:8080/",
          "height": 106
        }
      },
      "id": "KreK5Ewnd3HP",
      "execution_count": null,
      "outputs": [
        {
          "output_type": "error",
          "ename": "SyntaxError",
          "evalue": "invalid syntax (<ipython-input-1-eb230817b0bc>, line 1)",
          "traceback": [
            "\u001b[0;36m  File \u001b[0;32m\"<ipython-input-1-eb230817b0bc>\"\u001b[0;36m, line \u001b[0;32m1\u001b[0m\n\u001b[0;31m    function ClickConnect(){\u001b[0m\n\u001b[0m             ^\u001b[0m\n\u001b[0;31mSyntaxError\u001b[0m\u001b[0;31m:\u001b[0m invalid syntax\n"
          ]
        }
      ]
    },
    {
      "cell_type": "code",
      "execution_count": 2,
      "id": "b9cf2e64",
      "metadata": {
        "colab": {
          "base_uri": "https://localhost:8080/",
          "height": 0
        },
        "id": "b9cf2e64",
        "outputId": "1b9d686e-0ff5-424f-e148-c3c5b37044c5"
      },
      "outputs": [
        {
          "output_type": "stream",
          "name": "stdout",
          "text": [
            "Requirement already satisfied: scikeras in /usr/local/lib/python3.10/dist-packages (0.13.0)\n",
            "Requirement already satisfied: keras>=3.2.0 in /usr/local/lib/python3.10/dist-packages (from scikeras) (3.3.2)\n",
            "Requirement already satisfied: scikit-learn>=1.4.2 in /usr/local/lib/python3.10/dist-packages (from scikeras) (1.4.2)\n",
            "Requirement already satisfied: absl-py in /usr/local/lib/python3.10/dist-packages (from keras>=3.2.0->scikeras) (1.4.0)\n",
            "Requirement already satisfied: numpy in /usr/local/lib/python3.10/dist-packages (from keras>=3.2.0->scikeras) (1.25.2)\n",
            "Requirement already satisfied: rich in /usr/local/lib/python3.10/dist-packages (from keras>=3.2.0->scikeras) (13.7.1)\n",
            "Requirement already satisfied: namex in /usr/local/lib/python3.10/dist-packages (from keras>=3.2.0->scikeras) (0.0.8)\n",
            "Requirement already satisfied: h5py in /usr/local/lib/python3.10/dist-packages (from keras>=3.2.0->scikeras) (3.9.0)\n",
            "Requirement already satisfied: optree in /usr/local/lib/python3.10/dist-packages (from keras>=3.2.0->scikeras) (0.11.0)\n",
            "Requirement already satisfied: ml-dtypes in /usr/local/lib/python3.10/dist-packages (from keras>=3.2.0->scikeras) (0.2.0)\n",
            "Requirement already satisfied: scipy>=1.6.0 in /usr/local/lib/python3.10/dist-packages (from scikit-learn>=1.4.2->scikeras) (1.11.4)\n",
            "Requirement already satisfied: joblib>=1.2.0 in /usr/local/lib/python3.10/dist-packages (from scikit-learn>=1.4.2->scikeras) (1.4.0)\n",
            "Requirement already satisfied: threadpoolctl>=2.0.0 in /usr/local/lib/python3.10/dist-packages (from scikit-learn>=1.4.2->scikeras) (3.4.0)\n",
            "Requirement already satisfied: typing-extensions>=4.0.0 in /usr/local/lib/python3.10/dist-packages (from optree->keras>=3.2.0->scikeras) (4.11.0)\n",
            "Requirement already satisfied: markdown-it-py>=2.2.0 in /usr/local/lib/python3.10/dist-packages (from rich->keras>=3.2.0->scikeras) (3.0.0)\n",
            "Requirement already satisfied: pygments<3.0.0,>=2.13.0 in /usr/local/lib/python3.10/dist-packages (from rich->keras>=3.2.0->scikeras) (2.16.1)\n",
            "Requirement already satisfied: mdurl~=0.1 in /usr/local/lib/python3.10/dist-packages (from markdown-it-py>=2.2.0->rich->keras>=3.2.0->scikeras) (0.1.2)\n"
          ]
        }
      ],
      "source": [
        "! pip install scikeras"
      ]
    },
    {
      "cell_type": "markdown",
      "id": "20eddbc5",
      "metadata": {
        "id": "20eddbc5"
      },
      "source": [
        "### 1. Importing all necessary libraries"
      ]
    },
    {
      "cell_type": "code",
      "execution_count": null,
      "id": "c066b7a4",
      "metadata": {
        "id": "c066b7a4"
      },
      "outputs": [],
      "source": []
    },
    {
      "cell_type": "code",
      "execution_count": 3,
      "id": "7fde2bf8",
      "metadata": {
        "id": "7fde2bf8"
      },
      "outputs": [],
      "source": [
        "import os\n",
        "import pandas as pd\n",
        "import numpy as np\n",
        "import matplotlib.pyplot as plt\n",
        "import seaborn as sns\n",
        "import time\n",
        "import tensorflow\n",
        "from tensorflow.keras.models import Sequential\n",
        "from tensorflow.keras.layers import Dense\n",
        "from scikeras.wrappers import KerasClassifier\n",
        "from sklearn.ensemble import GradientBoostingClassifier\n",
        "from sklearn.linear_model import LogisticRegression\n",
        "from sklearn.svm import SVC\n",
        "from sklearn.ensemble import RandomForestClassifier\n",
        "from sklearn.tree import DecisionTreeClassifier\n",
        "from sklearn.naive_bayes import GaussianNB\n",
        "from sklearn.model_selection import train_test_split\n",
        "from sklearn.preprocessing import MinMaxScaler\n",
        "from sklearn.metrics import accuracy_score\n",
        "from sklearn.metrics import precision_score"
      ]
    },
    {
      "cell_type": "code",
      "execution_count": 112,
      "id": "aa61d112",
      "metadata": {
        "id": "aa61d112"
      },
      "outputs": [],
      "source": [
        "pd.set_option('display.max_rows', 100)  # Change 1000 to the desired number of rows\n",
        "pd.set_option('display.max_columns', 100)  # Change 1000 to the desired number of columns\n"
      ]
    },
    {
      "cell_type": "markdown",
      "id": "d7983166",
      "metadata": {
        "id": "d7983166"
      },
      "source": [
        "### 2. Loading the data"
      ]
    },
    {
      "cell_type": "markdown",
      "id": "9af1792e",
      "metadata": {
        "id": "9af1792e"
      },
      "source": [
        "- ### 2.1. Loading column names explicitly :"
      ]
    },
    {
      "cell_type": "code",
      "execution_count": 5,
      "id": "054159ec",
      "metadata": {
        "colab": {
          "base_uri": "https://localhost:8080/",
          "height": 0
        },
        "id": "054159ec",
        "outputId": "55ca5837-8388-46bc-ad20-214c85f8732b"
      },
      "outputs": [
        {
          "output_type": "stream",
          "name": "stdout",
          "text": [
            "back,buffer_overflow,ftp_write,guess_passwd,imap,ipsweep,land,loadmodule,multihop,neptune,nmap,normal,perl,phf,pod,portsweep,rootkit,satan,smurf,spy,teardrop,warezclient,warezmaster.\n",
            "duration: continuous.\n",
            "protocol_type: symbolic.\n",
            "service: symbolic.\n",
            "flag: symbolic.\n",
            "src_bytes: continuous.\n",
            "dst_bytes: continuous.\n",
            "land: symbolic.\n",
            "wrong_fragment: continuous.\n",
            "urgent: continuous.\n",
            "hot: continuous.\n",
            "num_failed_logins: continuous.\n",
            "logged_in: symbolic.\n",
            "num_compromised: continuous.\n",
            "root_shell: continuous.\n",
            "su_attempted: continuous.\n",
            "num_root: continuous.\n",
            "num_file_creations: continuous.\n",
            "num_shells: continuous.\n",
            "num_access_files: continuous.\n",
            "num_outbound_cmds: continuous.\n",
            "is_host_login: symbolic.\n",
            "is_guest_login: symbolic.\n",
            "count: continuous.\n",
            "srv_count: continuous.\n",
            "serror_rate: continuous.\n",
            "srv_serror_rate: continuous.\n",
            "rerror_rate: continuous.\n",
            "srv_rerror_rate: continuous.\n",
            "same_srv_rate: continuous.\n",
            "diff_srv_rate: continuous.\n",
            "srv_diff_host_rate: continuous.\n",
            "dst_host_count: continuous.\n",
            "dst_host_srv_count: continuous.\n",
            "dst_host_same_srv_rate: continuous.\n",
            "dst_host_diff_srv_rate: continuous.\n",
            "dst_host_same_src_port_rate: continuous.\n",
            "dst_host_srv_diff_host_rate: continuous.\n",
            "dst_host_serror_rate: continuous.\n",
            "dst_host_srv_serror_rate: continuous.\n",
            "dst_host_rerror_rate: continuous.\n",
            "dst_host_srv_rerror_rate: continuous.\n",
            "\n"
          ]
        }
      ],
      "source": [
        "with open(\"column.names\",'r') as f:\n",
        "    print(f.read())"
      ]
    },
    {
      "cell_type": "code",
      "execution_count": 6,
      "id": "8c028677",
      "metadata": {
        "colab": {
          "base_uri": "https://localhost:8080/",
          "height": 0
        },
        "id": "8c028677",
        "outputId": "8f4ea63e-0166-401e-db6e-2f5a844bd598"
      },
      "outputs": [
        {
          "output_type": "stream",
          "name": "stdout",
          "text": [
            "42\n"
          ]
        }
      ],
      "source": [
        "cols=\"\"\"duration,\n",
        "protocol_type,\n",
        "service,\n",
        "flag,\n",
        "src_bytes,\n",
        "dst_bytes,\n",
        "land,\n",
        "wrong_fragment,\n",
        "urgent,\n",
        "hot,\n",
        "num_failed_logins,\n",
        "logged_in,\n",
        "num_compromised,\n",
        "root_shell,\n",
        "su_attempted,\n",
        "num_root,\n",
        "num_file_creations,\n",
        "num_shells,\n",
        "num_access_files,\n",
        "num_outbound_cmds,\n",
        "is_host_login,\n",
        "is_guest_login,\n",
        "count,\n",
        "srv_count,\n",
        "serror_rate,\n",
        "srv_serror_rate,\n",
        "rerror_rate,\n",
        "srv_rerror_rate,\n",
        "same_srv_rate,\n",
        "diff_srv_rate,\n",
        "srv_diff_host_rate,\n",
        "dst_host_count,\n",
        "dst_host_srv_count,\n",
        "dst_host_same_srv_rate,\n",
        "dst_host_diff_srv_rate,\n",
        "dst_host_same_src_port_rate,\n",
        "dst_host_srv_diff_host_rate,\n",
        "dst_host_serror_rate,\n",
        "dst_host_srv_serror_rate,\n",
        "dst_host_rerror_rate,\n",
        "dst_host_srv_rerror_rate\"\"\"\n",
        "\n",
        "columns=[]\n",
        "for c in cols.split(','):\n",
        "    if(c.strip()):\n",
        "       columns.append(c.strip())\n",
        "\n",
        "columns.append('target')\n",
        "#print(columns)\n",
        "print(len(columns))"
      ]
    },
    {
      "cell_type": "markdown",
      "id": "740e6153",
      "metadata": {
        "id": "740e6153"
      },
      "source": [
        "- #### 2.2 Loading 'Types of Attack' explicity :"
      ]
    },
    {
      "cell_type": "code",
      "execution_count": 7,
      "id": "df3257c4",
      "metadata": {
        "colab": {
          "base_uri": "https://localhost:8080/",
          "height": 0
        },
        "id": "df3257c4",
        "outputId": "7802797a-d829-4f1e-9e8e-654e28299563"
      },
      "outputs": [
        {
          "output_type": "stream",
          "name": "stdout",
          "text": [
            "back dos\n",
            "buffer_overflow u2r\n",
            "ftp_write r2l\n",
            "guess_passwd r2l\n",
            "imap r2l\n",
            "ipsweep probe\n",
            "land dos\n",
            "loadmodule u2r\n",
            "multihop r2l\n",
            "neptune dos\n",
            "nmap probe\n",
            "perl u2r\n",
            "phf r2l\n",
            "pod dos\n",
            "portsweep probe\n",
            "rootkit u2r\n",
            "satan probe\n",
            "smurf dos\n",
            "spy r2l\n",
            "teardrop dos\n",
            "warezclient r2l\n",
            "warezmaster r2l\n",
            "\n",
            "\n"
          ]
        }
      ],
      "source": [
        "with open(\"training_attack_types\",'r') as f:\n",
        "    print(f.read())"
      ]
    },
    {
      "cell_type": "code",
      "execution_count": 8,
      "id": "2205fc78",
      "metadata": {
        "id": "2205fc78"
      },
      "outputs": [],
      "source": [
        "attacks_types = {\n",
        "    'normal': 'normal',\n",
        "'back': 'dos',\n",
        "'buffer_overflow': 'u2r',\n",
        "'ftp_write': 'r2l',\n",
        "'guess_passwd': 'r2l',\n",
        "'imap': 'r2l',\n",
        "'ipsweep': 'probe',\n",
        "'land': 'dos',\n",
        "'loadmodule': 'u2r',\n",
        "'multihop': 'r2l',\n",
        "'neptune': 'dos',\n",
        "'nmap': 'probe',\n",
        "'perl': 'u2r',\n",
        "'phf': 'r2l',\n",
        "'pod': 'dos',\n",
        "'portsweep': 'probe',\n",
        "'rootkit': 'u2r',\n",
        "'satan': 'probe',\n",
        "'smurf': 'dos',\n",
        "'spy': 'r2l',\n",
        "'teardrop': 'dos',\n",
        "'warezclient': 'r2l',\n",
        "'warezmaster': 'r2l',\n",
        "}\n"
      ]
    },
    {
      "cell_type": "markdown",
      "id": "702b07db",
      "metadata": {
        "id": "702b07db"
      },
      "source": [
        "- #### 2.3 Loading dataset file and assigning from explicity loaded labels"
      ]
    },
    {
      "cell_type": "code",
      "execution_count": 9,
      "id": "e8b6bb3b",
      "metadata": {
        "id": "e8b6bb3b"
      },
      "outputs": [],
      "source": [
        "path = \"DDoSDNSDataset.csv\"\n",
        "\n",
        "df = pd.read_csv(path,names=columns)\n",
        "\n",
        "\n",
        "df['Attack Type'] = df.target.apply(lambda r:attacks_types[r[:-1]])\n"
      ]
    },
    {
      "cell_type": "markdown",
      "id": "d3f3c251",
      "metadata": {
        "id": "d3f3c251"
      },
      "source": [
        "- #### 2.4 Peeking at the dataset :"
      ]
    },
    {
      "cell_type": "code",
      "execution_count": 10,
      "id": "5d84101a",
      "metadata": {
        "colab": {
          "base_uri": "https://localhost:8080/",
          "height": 243
        },
        "id": "5d84101a",
        "outputId": "80da9bc0-5332-4267-94d1-783e02138973"
      },
      "outputs": [
        {
          "output_type": "execute_result",
          "data": {
            "text/plain": [
              "   duration protocol_type service flag  src_bytes  dst_bytes  land  \\\n",
              "0         0           tcp    http   SF        181       5450     0   \n",
              "1         0           tcp    http   SF        239        486     0   \n",
              "2         0           tcp    http   SF        235       1337     0   \n",
              "3         0           tcp    http   SF        219       1337     0   \n",
              "4         0           tcp    http   SF        217       2032     0   \n",
              "\n",
              "   wrong_fragment  urgent  hot  num_failed_logins  logged_in  num_compromised  \\\n",
              "0               0       0    0                  0          1                0   \n",
              "1               0       0    0                  0          1                0   \n",
              "2               0       0    0                  0          1                0   \n",
              "3               0       0    0                  0          1                0   \n",
              "4               0       0    0                  0          1                0   \n",
              "\n",
              "   root_shell  su_attempted  num_root  num_file_creations  num_shells  \\\n",
              "0           0             0         0                   0           0   \n",
              "1           0             0         0                   0           0   \n",
              "2           0             0         0                   0           0   \n",
              "3           0             0         0                   0           0   \n",
              "4           0             0         0                   0           0   \n",
              "\n",
              "   num_access_files  num_outbound_cmds  is_host_login  is_guest_login  count  \\\n",
              "0                 0                  0              0               0      8   \n",
              "1                 0                  0              0               0      8   \n",
              "2                 0                  0              0               0      8   \n",
              "3                 0                  0              0               0      6   \n",
              "4                 0                  0              0               0      6   \n",
              "\n",
              "   srv_count  serror_rate  srv_serror_rate  rerror_rate  srv_rerror_rate  \\\n",
              "0          8          0.0              0.0          0.0              0.0   \n",
              "1          8          0.0              0.0          0.0              0.0   \n",
              "2          8          0.0              0.0          0.0              0.0   \n",
              "3          6          0.0              0.0          0.0              0.0   \n",
              "4          6          0.0              0.0          0.0              0.0   \n",
              "\n",
              "   same_srv_rate  diff_srv_rate  srv_diff_host_rate  dst_host_count  \\\n",
              "0            1.0            0.0                 0.0               9   \n",
              "1            1.0            0.0                 0.0              19   \n",
              "2            1.0            0.0                 0.0              29   \n",
              "3            1.0            0.0                 0.0              39   \n",
              "4            1.0            0.0                 0.0              49   \n",
              "\n",
              "   dst_host_srv_count  dst_host_same_srv_rate  dst_host_diff_srv_rate  \\\n",
              "0                   9                     1.0                     0.0   \n",
              "1                  19                     1.0                     0.0   \n",
              "2                  29                     1.0                     0.0   \n",
              "3                  39                     1.0                     0.0   \n",
              "4                  49                     1.0                     0.0   \n",
              "\n",
              "   dst_host_same_src_port_rate  dst_host_srv_diff_host_rate  \\\n",
              "0                         0.11                          0.0   \n",
              "1                         0.05                          0.0   \n",
              "2                         0.03                          0.0   \n",
              "3                         0.03                          0.0   \n",
              "4                         0.02                          0.0   \n",
              "\n",
              "   dst_host_serror_rate  dst_host_srv_serror_rate  dst_host_rerror_rate  \\\n",
              "0                   0.0                       0.0                   0.0   \n",
              "1                   0.0                       0.0                   0.0   \n",
              "2                   0.0                       0.0                   0.0   \n",
              "3                   0.0                       0.0                   0.0   \n",
              "4                   0.0                       0.0                   0.0   \n",
              "\n",
              "   dst_host_srv_rerror_rate   target Attack Type  \n",
              "0                       0.0  normal.      normal  \n",
              "1                       0.0  normal.      normal  \n",
              "2                       0.0  normal.      normal  \n",
              "3                       0.0  normal.      normal  \n",
              "4                       0.0  normal.      normal  "
            ],
            "text/html": [
              "\n",
              "  <div id=\"df-76d2e0fc-5052-4dc2-b6a5-6fc6c4a770e5\" class=\"colab-df-container\">\n",
              "    <div>\n",
              "<style scoped>\n",
              "    .dataframe tbody tr th:only-of-type {\n",
              "        vertical-align: middle;\n",
              "    }\n",
              "\n",
              "    .dataframe tbody tr th {\n",
              "        vertical-align: top;\n",
              "    }\n",
              "\n",
              "    .dataframe thead th {\n",
              "        text-align: right;\n",
              "    }\n",
              "</style>\n",
              "<table border=\"1\" class=\"dataframe\">\n",
              "  <thead>\n",
              "    <tr style=\"text-align: right;\">\n",
              "      <th></th>\n",
              "      <th>duration</th>\n",
              "      <th>protocol_type</th>\n",
              "      <th>service</th>\n",
              "      <th>flag</th>\n",
              "      <th>src_bytes</th>\n",
              "      <th>dst_bytes</th>\n",
              "      <th>land</th>\n",
              "      <th>wrong_fragment</th>\n",
              "      <th>urgent</th>\n",
              "      <th>hot</th>\n",
              "      <th>num_failed_logins</th>\n",
              "      <th>logged_in</th>\n",
              "      <th>num_compromised</th>\n",
              "      <th>root_shell</th>\n",
              "      <th>su_attempted</th>\n",
              "      <th>num_root</th>\n",
              "      <th>num_file_creations</th>\n",
              "      <th>num_shells</th>\n",
              "      <th>num_access_files</th>\n",
              "      <th>num_outbound_cmds</th>\n",
              "      <th>is_host_login</th>\n",
              "      <th>is_guest_login</th>\n",
              "      <th>count</th>\n",
              "      <th>srv_count</th>\n",
              "      <th>serror_rate</th>\n",
              "      <th>srv_serror_rate</th>\n",
              "      <th>rerror_rate</th>\n",
              "      <th>srv_rerror_rate</th>\n",
              "      <th>same_srv_rate</th>\n",
              "      <th>diff_srv_rate</th>\n",
              "      <th>srv_diff_host_rate</th>\n",
              "      <th>dst_host_count</th>\n",
              "      <th>dst_host_srv_count</th>\n",
              "      <th>dst_host_same_srv_rate</th>\n",
              "      <th>dst_host_diff_srv_rate</th>\n",
              "      <th>dst_host_same_src_port_rate</th>\n",
              "      <th>dst_host_srv_diff_host_rate</th>\n",
              "      <th>dst_host_serror_rate</th>\n",
              "      <th>dst_host_srv_serror_rate</th>\n",
              "      <th>dst_host_rerror_rate</th>\n",
              "      <th>dst_host_srv_rerror_rate</th>\n",
              "      <th>target</th>\n",
              "      <th>Attack Type</th>\n",
              "    </tr>\n",
              "  </thead>\n",
              "  <tbody>\n",
              "    <tr>\n",
              "      <th>0</th>\n",
              "      <td>0</td>\n",
              "      <td>tcp</td>\n",
              "      <td>http</td>\n",
              "      <td>SF</td>\n",
              "      <td>181</td>\n",
              "      <td>5450</td>\n",
              "      <td>0</td>\n",
              "      <td>0</td>\n",
              "      <td>0</td>\n",
              "      <td>0</td>\n",
              "      <td>0</td>\n",
              "      <td>1</td>\n",
              "      <td>0</td>\n",
              "      <td>0</td>\n",
              "      <td>0</td>\n",
              "      <td>0</td>\n",
              "      <td>0</td>\n",
              "      <td>0</td>\n",
              "      <td>0</td>\n",
              "      <td>0</td>\n",
              "      <td>0</td>\n",
              "      <td>0</td>\n",
              "      <td>8</td>\n",
              "      <td>8</td>\n",
              "      <td>0.0</td>\n",
              "      <td>0.0</td>\n",
              "      <td>0.0</td>\n",
              "      <td>0.0</td>\n",
              "      <td>1.0</td>\n",
              "      <td>0.0</td>\n",
              "      <td>0.0</td>\n",
              "      <td>9</td>\n",
              "      <td>9</td>\n",
              "      <td>1.0</td>\n",
              "      <td>0.0</td>\n",
              "      <td>0.11</td>\n",
              "      <td>0.0</td>\n",
              "      <td>0.0</td>\n",
              "      <td>0.0</td>\n",
              "      <td>0.0</td>\n",
              "      <td>0.0</td>\n",
              "      <td>normal.</td>\n",
              "      <td>normal</td>\n",
              "    </tr>\n",
              "    <tr>\n",
              "      <th>1</th>\n",
              "      <td>0</td>\n",
              "      <td>tcp</td>\n",
              "      <td>http</td>\n",
              "      <td>SF</td>\n",
              "      <td>239</td>\n",
              "      <td>486</td>\n",
              "      <td>0</td>\n",
              "      <td>0</td>\n",
              "      <td>0</td>\n",
              "      <td>0</td>\n",
              "      <td>0</td>\n",
              "      <td>1</td>\n",
              "      <td>0</td>\n",
              "      <td>0</td>\n",
              "      <td>0</td>\n",
              "      <td>0</td>\n",
              "      <td>0</td>\n",
              "      <td>0</td>\n",
              "      <td>0</td>\n",
              "      <td>0</td>\n",
              "      <td>0</td>\n",
              "      <td>0</td>\n",
              "      <td>8</td>\n",
              "      <td>8</td>\n",
              "      <td>0.0</td>\n",
              "      <td>0.0</td>\n",
              "      <td>0.0</td>\n",
              "      <td>0.0</td>\n",
              "      <td>1.0</td>\n",
              "      <td>0.0</td>\n",
              "      <td>0.0</td>\n",
              "      <td>19</td>\n",
              "      <td>19</td>\n",
              "      <td>1.0</td>\n",
              "      <td>0.0</td>\n",
              "      <td>0.05</td>\n",
              "      <td>0.0</td>\n",
              "      <td>0.0</td>\n",
              "      <td>0.0</td>\n",
              "      <td>0.0</td>\n",
              "      <td>0.0</td>\n",
              "      <td>normal.</td>\n",
              "      <td>normal</td>\n",
              "    </tr>\n",
              "    <tr>\n",
              "      <th>2</th>\n",
              "      <td>0</td>\n",
              "      <td>tcp</td>\n",
              "      <td>http</td>\n",
              "      <td>SF</td>\n",
              "      <td>235</td>\n",
              "      <td>1337</td>\n",
              "      <td>0</td>\n",
              "      <td>0</td>\n",
              "      <td>0</td>\n",
              "      <td>0</td>\n",
              "      <td>0</td>\n",
              "      <td>1</td>\n",
              "      <td>0</td>\n",
              "      <td>0</td>\n",
              "      <td>0</td>\n",
              "      <td>0</td>\n",
              "      <td>0</td>\n",
              "      <td>0</td>\n",
              "      <td>0</td>\n",
              "      <td>0</td>\n",
              "      <td>0</td>\n",
              "      <td>0</td>\n",
              "      <td>8</td>\n",
              "      <td>8</td>\n",
              "      <td>0.0</td>\n",
              "      <td>0.0</td>\n",
              "      <td>0.0</td>\n",
              "      <td>0.0</td>\n",
              "      <td>1.0</td>\n",
              "      <td>0.0</td>\n",
              "      <td>0.0</td>\n",
              "      <td>29</td>\n",
              "      <td>29</td>\n",
              "      <td>1.0</td>\n",
              "      <td>0.0</td>\n",
              "      <td>0.03</td>\n",
              "      <td>0.0</td>\n",
              "      <td>0.0</td>\n",
              "      <td>0.0</td>\n",
              "      <td>0.0</td>\n",
              "      <td>0.0</td>\n",
              "      <td>normal.</td>\n",
              "      <td>normal</td>\n",
              "    </tr>\n",
              "    <tr>\n",
              "      <th>3</th>\n",
              "      <td>0</td>\n",
              "      <td>tcp</td>\n",
              "      <td>http</td>\n",
              "      <td>SF</td>\n",
              "      <td>219</td>\n",
              "      <td>1337</td>\n",
              "      <td>0</td>\n",
              "      <td>0</td>\n",
              "      <td>0</td>\n",
              "      <td>0</td>\n",
              "      <td>0</td>\n",
              "      <td>1</td>\n",
              "      <td>0</td>\n",
              "      <td>0</td>\n",
              "      <td>0</td>\n",
              "      <td>0</td>\n",
              "      <td>0</td>\n",
              "      <td>0</td>\n",
              "      <td>0</td>\n",
              "      <td>0</td>\n",
              "      <td>0</td>\n",
              "      <td>0</td>\n",
              "      <td>6</td>\n",
              "      <td>6</td>\n",
              "      <td>0.0</td>\n",
              "      <td>0.0</td>\n",
              "      <td>0.0</td>\n",
              "      <td>0.0</td>\n",
              "      <td>1.0</td>\n",
              "      <td>0.0</td>\n",
              "      <td>0.0</td>\n",
              "      <td>39</td>\n",
              "      <td>39</td>\n",
              "      <td>1.0</td>\n",
              "      <td>0.0</td>\n",
              "      <td>0.03</td>\n",
              "      <td>0.0</td>\n",
              "      <td>0.0</td>\n",
              "      <td>0.0</td>\n",
              "      <td>0.0</td>\n",
              "      <td>0.0</td>\n",
              "      <td>normal.</td>\n",
              "      <td>normal</td>\n",
              "    </tr>\n",
              "    <tr>\n",
              "      <th>4</th>\n",
              "      <td>0</td>\n",
              "      <td>tcp</td>\n",
              "      <td>http</td>\n",
              "      <td>SF</td>\n",
              "      <td>217</td>\n",
              "      <td>2032</td>\n",
              "      <td>0</td>\n",
              "      <td>0</td>\n",
              "      <td>0</td>\n",
              "      <td>0</td>\n",
              "      <td>0</td>\n",
              "      <td>1</td>\n",
              "      <td>0</td>\n",
              "      <td>0</td>\n",
              "      <td>0</td>\n",
              "      <td>0</td>\n",
              "      <td>0</td>\n",
              "      <td>0</td>\n",
              "      <td>0</td>\n",
              "      <td>0</td>\n",
              "      <td>0</td>\n",
              "      <td>0</td>\n",
              "      <td>6</td>\n",
              "      <td>6</td>\n",
              "      <td>0.0</td>\n",
              "      <td>0.0</td>\n",
              "      <td>0.0</td>\n",
              "      <td>0.0</td>\n",
              "      <td>1.0</td>\n",
              "      <td>0.0</td>\n",
              "      <td>0.0</td>\n",
              "      <td>49</td>\n",
              "      <td>49</td>\n",
              "      <td>1.0</td>\n",
              "      <td>0.0</td>\n",
              "      <td>0.02</td>\n",
              "      <td>0.0</td>\n",
              "      <td>0.0</td>\n",
              "      <td>0.0</td>\n",
              "      <td>0.0</td>\n",
              "      <td>0.0</td>\n",
              "      <td>normal.</td>\n",
              "      <td>normal</td>\n",
              "    </tr>\n",
              "  </tbody>\n",
              "</table>\n",
              "</div>\n",
              "    <div class=\"colab-df-buttons\">\n",
              "\n",
              "  <div class=\"colab-df-container\">\n",
              "    <button class=\"colab-df-convert\" onclick=\"convertToInteractive('df-76d2e0fc-5052-4dc2-b6a5-6fc6c4a770e5')\"\n",
              "            title=\"Convert this dataframe to an interactive table.\"\n",
              "            style=\"display:none;\">\n",
              "\n",
              "  <svg xmlns=\"http://www.w3.org/2000/svg\" height=\"24px\" viewBox=\"0 -960 960 960\">\n",
              "    <path d=\"M120-120v-720h720v720H120Zm60-500h600v-160H180v160Zm220 220h160v-160H400v160Zm0 220h160v-160H400v160ZM180-400h160v-160H180v160Zm440 0h160v-160H620v160ZM180-180h160v-160H180v160Zm440 0h160v-160H620v160Z\"/>\n",
              "  </svg>\n",
              "    </button>\n",
              "\n",
              "  <style>\n",
              "    .colab-df-container {\n",
              "      display:flex;\n",
              "      gap: 12px;\n",
              "    }\n",
              "\n",
              "    .colab-df-convert {\n",
              "      background-color: #E8F0FE;\n",
              "      border: none;\n",
              "      border-radius: 50%;\n",
              "      cursor: pointer;\n",
              "      display: none;\n",
              "      fill: #1967D2;\n",
              "      height: 32px;\n",
              "      padding: 0 0 0 0;\n",
              "      width: 32px;\n",
              "    }\n",
              "\n",
              "    .colab-df-convert:hover {\n",
              "      background-color: #E2EBFA;\n",
              "      box-shadow: 0px 1px 2px rgba(60, 64, 67, 0.3), 0px 1px 3px 1px rgba(60, 64, 67, 0.15);\n",
              "      fill: #174EA6;\n",
              "    }\n",
              "\n",
              "    .colab-df-buttons div {\n",
              "      margin-bottom: 4px;\n",
              "    }\n",
              "\n",
              "    [theme=dark] .colab-df-convert {\n",
              "      background-color: #3B4455;\n",
              "      fill: #D2E3FC;\n",
              "    }\n",
              "\n",
              "    [theme=dark] .colab-df-convert:hover {\n",
              "      background-color: #434B5C;\n",
              "      box-shadow: 0px 1px 3px 1px rgba(0, 0, 0, 0.15);\n",
              "      filter: drop-shadow(0px 1px 2px rgba(0, 0, 0, 0.3));\n",
              "      fill: #FFFFFF;\n",
              "    }\n",
              "  </style>\n",
              "\n",
              "    <script>\n",
              "      const buttonEl =\n",
              "        document.querySelector('#df-76d2e0fc-5052-4dc2-b6a5-6fc6c4a770e5 button.colab-df-convert');\n",
              "      buttonEl.style.display =\n",
              "        google.colab.kernel.accessAllowed ? 'block' : 'none';\n",
              "\n",
              "      async function convertToInteractive(key) {\n",
              "        const element = document.querySelector('#df-76d2e0fc-5052-4dc2-b6a5-6fc6c4a770e5');\n",
              "        const dataTable =\n",
              "          await google.colab.kernel.invokeFunction('convertToInteractive',\n",
              "                                                    [key], {});\n",
              "        if (!dataTable) return;\n",
              "\n",
              "        const docLinkHtml = 'Like what you see? Visit the ' +\n",
              "          '<a target=\"_blank\" href=https://colab.research.google.com/notebooks/data_table.ipynb>data table notebook</a>'\n",
              "          + ' to learn more about interactive tables.';\n",
              "        element.innerHTML = '';\n",
              "        dataTable['output_type'] = 'display_data';\n",
              "        await google.colab.output.renderOutput(dataTable, element);\n",
              "        const docLink = document.createElement('div');\n",
              "        docLink.innerHTML = docLinkHtml;\n",
              "        element.appendChild(docLink);\n",
              "      }\n",
              "    </script>\n",
              "  </div>\n",
              "\n",
              "\n",
              "<div id=\"df-8a8e4a97-247c-41b4-aa07-6e7d7cdd4a2c\">\n",
              "  <button class=\"colab-df-quickchart\" onclick=\"quickchart('df-8a8e4a97-247c-41b4-aa07-6e7d7cdd4a2c')\"\n",
              "            title=\"Suggest charts\"\n",
              "            style=\"display:none;\">\n",
              "\n",
              "<svg xmlns=\"http://www.w3.org/2000/svg\" height=\"24px\"viewBox=\"0 0 24 24\"\n",
              "     width=\"24px\">\n",
              "    <g>\n",
              "        <path d=\"M19 3H5c-1.1 0-2 .9-2 2v14c0 1.1.9 2 2 2h14c1.1 0 2-.9 2-2V5c0-1.1-.9-2-2-2zM9 17H7v-7h2v7zm4 0h-2V7h2v10zm4 0h-2v-4h2v4z\"/>\n",
              "    </g>\n",
              "</svg>\n",
              "  </button>\n",
              "\n",
              "<style>\n",
              "  .colab-df-quickchart {\n",
              "      --bg-color: #E8F0FE;\n",
              "      --fill-color: #1967D2;\n",
              "      --hover-bg-color: #E2EBFA;\n",
              "      --hover-fill-color: #174EA6;\n",
              "      --disabled-fill-color: #AAA;\n",
              "      --disabled-bg-color: #DDD;\n",
              "  }\n",
              "\n",
              "  [theme=dark] .colab-df-quickchart {\n",
              "      --bg-color: #3B4455;\n",
              "      --fill-color: #D2E3FC;\n",
              "      --hover-bg-color: #434B5C;\n",
              "      --hover-fill-color: #FFFFFF;\n",
              "      --disabled-bg-color: #3B4455;\n",
              "      --disabled-fill-color: #666;\n",
              "  }\n",
              "\n",
              "  .colab-df-quickchart {\n",
              "    background-color: var(--bg-color);\n",
              "    border: none;\n",
              "    border-radius: 50%;\n",
              "    cursor: pointer;\n",
              "    display: none;\n",
              "    fill: var(--fill-color);\n",
              "    height: 32px;\n",
              "    padding: 0;\n",
              "    width: 32px;\n",
              "  }\n",
              "\n",
              "  .colab-df-quickchart:hover {\n",
              "    background-color: var(--hover-bg-color);\n",
              "    box-shadow: 0 1px 2px rgba(60, 64, 67, 0.3), 0 1px 3px 1px rgba(60, 64, 67, 0.15);\n",
              "    fill: var(--button-hover-fill-color);\n",
              "  }\n",
              "\n",
              "  .colab-df-quickchart-complete:disabled,\n",
              "  .colab-df-quickchart-complete:disabled:hover {\n",
              "    background-color: var(--disabled-bg-color);\n",
              "    fill: var(--disabled-fill-color);\n",
              "    box-shadow: none;\n",
              "  }\n",
              "\n",
              "  .colab-df-spinner {\n",
              "    border: 2px solid var(--fill-color);\n",
              "    border-color: transparent;\n",
              "    border-bottom-color: var(--fill-color);\n",
              "    animation:\n",
              "      spin 1s steps(1) infinite;\n",
              "  }\n",
              "\n",
              "  @keyframes spin {\n",
              "    0% {\n",
              "      border-color: transparent;\n",
              "      border-bottom-color: var(--fill-color);\n",
              "      border-left-color: var(--fill-color);\n",
              "    }\n",
              "    20% {\n",
              "      border-color: transparent;\n",
              "      border-left-color: var(--fill-color);\n",
              "      border-top-color: var(--fill-color);\n",
              "    }\n",
              "    30% {\n",
              "      border-color: transparent;\n",
              "      border-left-color: var(--fill-color);\n",
              "      border-top-color: var(--fill-color);\n",
              "      border-right-color: var(--fill-color);\n",
              "    }\n",
              "    40% {\n",
              "      border-color: transparent;\n",
              "      border-right-color: var(--fill-color);\n",
              "      border-top-color: var(--fill-color);\n",
              "    }\n",
              "    60% {\n",
              "      border-color: transparent;\n",
              "      border-right-color: var(--fill-color);\n",
              "    }\n",
              "    80% {\n",
              "      border-color: transparent;\n",
              "      border-right-color: var(--fill-color);\n",
              "      border-bottom-color: var(--fill-color);\n",
              "    }\n",
              "    90% {\n",
              "      border-color: transparent;\n",
              "      border-bottom-color: var(--fill-color);\n",
              "    }\n",
              "  }\n",
              "</style>\n",
              "\n",
              "  <script>\n",
              "    async function quickchart(key) {\n",
              "      const quickchartButtonEl =\n",
              "        document.querySelector('#' + key + ' button');\n",
              "      quickchartButtonEl.disabled = true;  // To prevent multiple clicks.\n",
              "      quickchartButtonEl.classList.add('colab-df-spinner');\n",
              "      try {\n",
              "        const charts = await google.colab.kernel.invokeFunction(\n",
              "            'suggestCharts', [key], {});\n",
              "      } catch (error) {\n",
              "        console.error('Error during call to suggestCharts:', error);\n",
              "      }\n",
              "      quickchartButtonEl.classList.remove('colab-df-spinner');\n",
              "      quickchartButtonEl.classList.add('colab-df-quickchart-complete');\n",
              "    }\n",
              "    (() => {\n",
              "      let quickchartButtonEl =\n",
              "        document.querySelector('#df-8a8e4a97-247c-41b4-aa07-6e7d7cdd4a2c button');\n",
              "      quickchartButtonEl.style.display =\n",
              "        google.colab.kernel.accessAllowed ? 'block' : 'none';\n",
              "    })();\n",
              "  </script>\n",
              "</div>\n",
              "\n",
              "    </div>\n",
              "  </div>\n"
            ],
            "application/vnd.google.colaboratory.intrinsic+json": {
              "type": "dataframe",
              "variable_name": "df"
            }
          },
          "metadata": {},
          "execution_count": 10
        }
      ],
      "source": [
        "df.head(5)"
      ]
    },
    {
      "cell_type": "markdown",
      "id": "5b2bf8e7",
      "metadata": {
        "id": "5b2bf8e7"
      },
      "source": [
        "- #### 2.5 Shape of dataset (rows, columns) :"
      ]
    },
    {
      "cell_type": "code",
      "execution_count": 11,
      "id": "a68098d4",
      "metadata": {
        "colab": {
          "base_uri": "https://localhost:8080/",
          "height": 0
        },
        "id": "a68098d4",
        "outputId": "0feece78-dc6f-4c13-81af-8e29951c82ef"
      },
      "outputs": [
        {
          "output_type": "execute_result",
          "data": {
            "text/plain": [
              "(494021, 43)"
            ]
          },
          "metadata": {},
          "execution_count": 11
        }
      ],
      "source": [
        "df.shape"
      ]
    },
    {
      "cell_type": "markdown",
      "id": "06ac1953",
      "metadata": {
        "id": "06ac1953"
      },
      "source": [
        "- #### 2.6 Checking the data types of columns :"
      ]
    },
    {
      "cell_type": "code",
      "execution_count": 12,
      "id": "ac79d9e7",
      "metadata": {
        "colab": {
          "base_uri": "https://localhost:8080/",
          "height": 0
        },
        "id": "ac79d9e7",
        "outputId": "196172d1-4733-4777-eda2-645c5d86d750"
      },
      "outputs": [
        {
          "output_type": "execute_result",
          "data": {
            "text/plain": [
              "duration                         int64\n",
              "protocol_type                   object\n",
              "service                         object\n",
              "flag                            object\n",
              "src_bytes                        int64\n",
              "dst_bytes                        int64\n",
              "land                             int64\n",
              "wrong_fragment                   int64\n",
              "urgent                           int64\n",
              "hot                              int64\n",
              "num_failed_logins                int64\n",
              "logged_in                        int64\n",
              "num_compromised                  int64\n",
              "root_shell                       int64\n",
              "su_attempted                     int64\n",
              "num_root                         int64\n",
              "num_file_creations               int64\n",
              "num_shells                       int64\n",
              "num_access_files                 int64\n",
              "num_outbound_cmds                int64\n",
              "is_host_login                    int64\n",
              "is_guest_login                   int64\n",
              "count                            int64\n",
              "srv_count                        int64\n",
              "serror_rate                    float64\n",
              "srv_serror_rate                float64\n",
              "rerror_rate                    float64\n",
              "srv_rerror_rate                float64\n",
              "same_srv_rate                  float64\n",
              "diff_srv_rate                  float64\n",
              "srv_diff_host_rate             float64\n",
              "dst_host_count                   int64\n",
              "dst_host_srv_count               int64\n",
              "dst_host_same_srv_rate         float64\n",
              "dst_host_diff_srv_rate         float64\n",
              "dst_host_same_src_port_rate    float64\n",
              "dst_host_srv_diff_host_rate    float64\n",
              "dst_host_serror_rate           float64\n",
              "dst_host_srv_serror_rate       float64\n",
              "dst_host_rerror_rate           float64\n",
              "dst_host_srv_rerror_rate       float64\n",
              "target                          object\n",
              "Attack Type                     object\n",
              "dtype: object"
            ]
          },
          "metadata": {},
          "execution_count": 12
        }
      ],
      "source": [
        "df.dtypes"
      ]
    },
    {
      "cell_type": "markdown",
      "id": "7d208e1e",
      "metadata": {
        "id": "7d208e1e"
      },
      "source": [
        "- #### 2.7 Checking number of null values for each column :"
      ]
    },
    {
      "cell_type": "code",
      "execution_count": 13,
      "id": "32d27a95",
      "metadata": {
        "colab": {
          "base_uri": "https://localhost:8080/",
          "height": 0
        },
        "id": "32d27a95",
        "outputId": "640439b3-d594-4edf-9bc5-ebff65d26294"
      },
      "outputs": [
        {
          "output_type": "execute_result",
          "data": {
            "text/plain": [
              "duration                       0\n",
              "protocol_type                  0\n",
              "service                        0\n",
              "flag                           0\n",
              "src_bytes                      0\n",
              "dst_bytes                      0\n",
              "land                           0\n",
              "wrong_fragment                 0\n",
              "urgent                         0\n",
              "hot                            0\n",
              "num_failed_logins              0\n",
              "logged_in                      0\n",
              "num_compromised                0\n",
              "root_shell                     0\n",
              "su_attempted                   0\n",
              "num_root                       0\n",
              "num_file_creations             0\n",
              "num_shells                     0\n",
              "num_access_files               0\n",
              "num_outbound_cmds              0\n",
              "is_host_login                  0\n",
              "is_guest_login                 0\n",
              "count                          0\n",
              "srv_count                      0\n",
              "serror_rate                    0\n",
              "srv_serror_rate                0\n",
              "rerror_rate                    0\n",
              "srv_rerror_rate                0\n",
              "same_srv_rate                  0\n",
              "diff_srv_rate                  0\n",
              "srv_diff_host_rate             0\n",
              "dst_host_count                 0\n",
              "dst_host_srv_count             0\n",
              "dst_host_same_srv_rate         0\n",
              "dst_host_diff_srv_rate         0\n",
              "dst_host_same_src_port_rate    0\n",
              "dst_host_srv_diff_host_rate    0\n",
              "dst_host_serror_rate           0\n",
              "dst_host_srv_serror_rate       0\n",
              "dst_host_rerror_rate           0\n",
              "dst_host_srv_rerror_rate       0\n",
              "target                         0\n",
              "Attack Type                    0\n",
              "dtype: int64"
            ]
          },
          "metadata": {},
          "execution_count": 13
        }
      ],
      "source": [
        "df.isnull().sum()"
      ]
    },
    {
      "cell_type": "markdown",
      "id": "835bc261",
      "metadata": {
        "id": "835bc261"
      },
      "source": [
        "- #### 2.8 Checking the count of different unique values of 'target' column :"
      ]
    },
    {
      "cell_type": "code",
      "execution_count": 14,
      "id": "58ef7d85",
      "metadata": {
        "colab": {
          "base_uri": "https://localhost:8080/",
          "height": 0
        },
        "id": "58ef7d85",
        "outputId": "7144d023-9669-4174-f9db-8764f9471514"
      },
      "outputs": [
        {
          "output_type": "execute_result",
          "data": {
            "text/plain": [
              "target\n",
              "smurf.              280790\n",
              "neptune.            107201\n",
              "normal.              97278\n",
              "back.                 2203\n",
              "satan.                1589\n",
              "ipsweep.              1247\n",
              "portsweep.            1040\n",
              "warezclient.          1020\n",
              "teardrop.              979\n",
              "pod.                   264\n",
              "nmap.                  231\n",
              "guess_passwd.           53\n",
              "buffer_overflow.        30\n",
              "land.                   21\n",
              "warezmaster.            20\n",
              "imap.                   12\n",
              "rootkit.                10\n",
              "loadmodule.              9\n",
              "ftp_write.               8\n",
              "multihop.                7\n",
              "phf.                     4\n",
              "perl.                    3\n",
              "spy.                     2\n",
              "Name: count, dtype: int64"
            ]
          },
          "metadata": {},
          "execution_count": 14
        }
      ],
      "source": [
        "df['target'].value_counts()"
      ]
    },
    {
      "cell_type": "markdown",
      "id": "915215ab",
      "metadata": {
        "id": "915215ab"
      },
      "source": [
        "- #### 2.9 Checking the count of different unique values of 'Attack type' column :"
      ]
    },
    {
      "cell_type": "code",
      "execution_count": 15,
      "id": "72733453",
      "metadata": {
        "colab": {
          "base_uri": "https://localhost:8080/",
          "height": 0
        },
        "id": "72733453",
        "outputId": "04f3bdfe-633b-45a3-aa10-aeb36588d3ce"
      },
      "outputs": [
        {
          "output_type": "execute_result",
          "data": {
            "text/plain": [
              "Attack Type\n",
              "dos       391458\n",
              "normal     97278\n",
              "probe       4107\n",
              "r2l         1126\n",
              "u2r           52\n",
              "Name: count, dtype: int64"
            ]
          },
          "metadata": {},
          "execution_count": 15
        }
      ],
      "source": [
        "df['Attack Type'].value_counts()"
      ]
    },
    {
      "cell_type": "markdown",
      "id": "21642ebd",
      "metadata": {
        "id": "21642ebd"
      },
      "source": [
        "- #### 2.10 Separating NUMERICAL and CATEGORICAL columns :"
      ]
    },
    {
      "cell_type": "code",
      "execution_count": 16,
      "id": "083236c7",
      "metadata": {
        "colab": {
          "base_uri": "https://localhost:8080/",
          "height": 0
        },
        "id": "083236c7",
        "outputId": "f882914a-5994-4c5d-aa1c-218a52dbb088"
      },
      "outputs": [
        {
          "output_type": "execute_result",
          "data": {
            "text/plain": [
              "['protocol_type', 'service', 'flag']"
            ]
          },
          "metadata": {},
          "execution_count": 16
        }
      ],
      "source": [
        "num_cols = df._get_numeric_data().columns\n",
        "\n",
        "cate_cols = list(set(df.columns)-set(num_cols))\n",
        "cate_cols.remove('target')\n",
        "cate_cols.remove('Attack Type')\n",
        "\n",
        "cate_cols"
      ]
    },
    {
      "cell_type": "markdown",
      "id": "a3810c95",
      "metadata": {
        "id": "a3810c95"
      },
      "source": [
        "- #### ! Defining helper function for data visualization :"
      ]
    },
    {
      "cell_type": "code",
      "execution_count": 17,
      "id": "63ffe9c6",
      "metadata": {
        "id": "63ffe9c6"
      },
      "outputs": [],
      "source": [
        "def bar_graph(feature):\n",
        "    df[feature].value_counts().plot(kind=\"bar\")"
      ]
    },
    {
      "cell_type": "markdown",
      "id": "911f9624",
      "metadata": {
        "id": "911f9624"
      },
      "source": [
        "---"
      ]
    },
    {
      "cell_type": "markdown",
      "id": "b1eddb8e",
      "metadata": {
        "id": "b1eddb8e"
      },
      "source": [
        "### 3. Data wrangling , visualisation and examination"
      ]
    },
    {
      "cell_type": "markdown",
      "id": "1e698809",
      "metadata": {
        "id": "1e698809"
      },
      "source": [
        "- #### 3.1 Visualising the different protocol types"
      ]
    },
    {
      "cell_type": "code",
      "execution_count": null,
      "id": "d28fef79",
      "metadata": {
        "colab": {
          "base_uri": "https://localhost:8080/",
          "height": 469
        },
        "id": "d28fef79",
        "outputId": "4282a394-e564-4752-cb4f-67d54c8e5af0"
      },
      "outputs": [
        {
          "data": {
            "image/png": "[encoded data removed]",
            "text/plain": [
              "<Figure size 640x480 with 1 Axes>"
            ]
          },
          "metadata": {},
          "output_type": "display_data"
        }
      ],
      "source": [
        "bar_graph('protocol_type')"
      ]
    },
    {
      "cell_type": "markdown",
      "id": "df1ff2e0",
      "metadata": {
        "id": "df1ff2e0"
      },
      "source": [
        "- #### 3.2 Visualising the different services"
      ]
    },
    {
      "cell_type": "code",
      "execution_count": null,
      "id": "969b96b8",
      "metadata": {
        "colab": {
          "base_uri": "https://localhost:8080/",
          "height": 208
        },
        "id": "969b96b8",
        "outputId": "2a6ff0c4-4fc9-48fe-c0c5-cb1f06f4b195"
      },
      "outputs": [
        {
          "data": {
            "image/png": "[encoded data removed]",
            "text/plain": [
              "<Figure size 1500x300 with 1 Axes>"
            ]
          },
          "metadata": {},
          "output_type": "display_data"
        }
      ],
      "source": [
        "plt.figure(figsize=(15,3))\n",
        "bar_graph('service')"
      ]
    },
    {
      "cell_type": "markdown",
      "id": "03174400",
      "metadata": {
        "id": "03174400"
      },
      "source": [
        "- #### 3.3 Visualising the different types of flags"
      ]
    },
    {
      "cell_type": "code",
      "execution_count": null,
      "id": "9b46c02d",
      "metadata": {
        "colab": {
          "base_uri": "https://localhost:8080/",
          "height": 491
        },
        "id": "9b46c02d",
        "outputId": "91fad887-dfc7-470f-e139-383cd2aa16b9"
      },
      "outputs": [
        {
          "data": {
            "image/png": "[encoded data removed]",
            "text/plain": [
              "<Figure size 640x480 with 1 Axes>"
            ]
          },
          "metadata": {},
          "output_type": "display_data"
        }
      ],
      "source": [
        "bar_graph('flag')"
      ]
    },
    {
      "cell_type": "markdown",
      "id": "e92d3959",
      "metadata": {
        "id": "e92d3959"
      },
      "source": [
        "- #### 3.4 Visualsing number of 'logged in'"
      ]
    },
    {
      "cell_type": "code",
      "execution_count": null,
      "id": "a9319e30",
      "metadata": {
        "colab": {
          "base_uri": "https://localhost:8080/",
          "height": 444
        },
        "id": "a9319e30",
        "outputId": "b946b584-b524-4f48-9bb1-b3abb0ba1489"
      },
      "outputs": [
        {
          "data": {
            "image/png": "[encoded data removed]",
            "text/plain": [
              "<Figure size 640x480 with 1 Axes>"
            ]
          },
          "metadata": {},
          "output_type": "display_data"
        }
      ],
      "source": [
        "bar_graph('logged_in')"
      ]
    },
    {
      "cell_type": "markdown",
      "id": "36536e6d",
      "metadata": {
        "id": "36536e6d"
      },
      "source": [
        "- #### 3.5 Visualising number 'target' values"
      ]
    },
    {
      "cell_type": "code",
      "execution_count": null,
      "id": "e4ae9fa1",
      "metadata": {
        "colab": {
          "base_uri": "https://localhost:8080/",
          "height": 547
        },
        "id": "e4ae9fa1",
        "outputId": "7b62e195-627a-4e2f-9676-0355046b34c1"
      },
      "outputs": [
        {
          "data": {
            "image/png": "[encoded data removed]",
            "text/plain": [
              "<Figure size 640x480 with 1 Axes>"
            ]
          },
          "metadata": {},
          "output_type": "display_data"
        }
      ],
      "source": [
        "bar_graph('target')"
      ]
    },
    {
      "cell_type": "markdown",
      "id": "b2bf74c2",
      "metadata": {
        "id": "b2bf74c2"
      },
      "source": [
        "- #### 3.6 Visualising different values of 'Attack type'"
      ]
    },
    {
      "cell_type": "code",
      "execution_count": null,
      "id": "94e8fd65",
      "metadata": {
        "colab": {
          "base_uri": "https://localhost:8080/",
          "height": 484
        },
        "id": "94e8fd65",
        "outputId": "05512450-1e76-4d0f-9a46-45904bb30757"
      },
      "outputs": [
        {
          "data": {
            "image/png": "[encoded data removed]",
            "text/plain": [
              "<Figure size 640x480 with 1 Axes>"
            ]
          },
          "metadata": {},
          "output_type": "display_data"
        }
      ],
      "source": [
        "bar_graph('Attack Type')"
      ]
    },
    {
      "cell_type": "markdown",
      "id": "17147189",
      "metadata": {
        "id": "17147189"
      },
      "source": [
        "- #### 3.7 Checking all columns, and removing null values and redundant columns :"
      ]
    },
    {
      "cell_type": "code",
      "execution_count": null,
      "id": "b553d3a2",
      "metadata": {
        "colab": {
          "base_uri": "https://localhost:8080/"
        },
        "id": "b553d3a2",
        "outputId": "78889500-f0d2-4779-dae3-cbf39ed60030"
      },
      "outputs": [
        {
          "data": {
            "text/plain": [
              "Index(['duration', 'protocol_type', 'service', 'flag', 'src_bytes',\n",
              "       'dst_bytes', 'land', 'wrong_fragment', 'urgent', 'hot',\n",
              "       'num_failed_logins', 'logged_in', 'num_compromised', 'root_shell',\n",
              "       'su_attempted', 'num_root', 'num_file_creations', 'num_shells',\n",
              "       'num_access_files', 'num_outbound_cmds', 'is_host_login',\n",
              "       'is_guest_login', 'count', 'srv_count', 'serror_rate',\n",
              "       'srv_serror_rate', 'rerror_rate', 'srv_rerror_rate', 'same_srv_rate',\n",
              "       'diff_srv_rate', 'srv_diff_host_rate', 'dst_host_count',\n",
              "       'dst_host_srv_count', 'dst_host_same_srv_rate',\n",
              "       'dst_host_diff_srv_rate', 'dst_host_same_src_port_rate',\n",
              "       'dst_host_srv_diff_host_rate', 'dst_host_serror_rate',\n",
              "       'dst_host_srv_serror_rate', 'dst_host_rerror_rate',\n",
              "       'dst_host_srv_rerror_rate', 'target', 'Attack Type'],\n",
              "      dtype='object')"
            ]
          },
          "execution_count": 24,
          "metadata": {},
          "output_type": "execute_result"
        }
      ],
      "source": [
        "df.columns"
      ]
    },
    {
      "cell_type": "code",
      "execution_count": 21,
      "id": "957154e5",
      "metadata": {
        "id": "957154e5"
      },
      "outputs": [],
      "source": [
        "df = df.dropna()\n",
        "\n",
        "df = df[[col for col in df if df[col].nunique() > 1]]"
      ]
    },
    {
      "cell_type": "markdown",
      "id": "305a4c55",
      "metadata": {
        "id": "305a4c55"
      },
      "source": [
        "- #### 3.8 Generating the correlation between columns :"
      ]
    },
    {
      "cell_type": "code",
      "execution_count": 22,
      "id": "528a2d47",
      "metadata": {
        "colab": {
          "base_uri": "https://localhost:8080/",
          "height": 960
        },
        "id": "528a2d47",
        "outputId": "bafb2bea-961a-40d7-ad4a-59a0dcdb6d33"
      },
      "outputs": [
        {
          "output_type": "display_data",
          "data": {
            "text/plain": [
              "<Figure size 1500x1200 with 2 Axes>"
            ],
            "image/png": "[encoded data removed]"
          },
          "metadata": {}
        }
      ],
      "source": [
        "corr = df.corr(numeric_only=True)\n",
        "\n",
        "plt.figure(figsize=(15,12))\n",
        "\n",
        "sns.heatmap(corr)\n",
        "\n",
        "plt.show()"
      ]
    },
    {
      "cell_type": "markdown",
      "id": "fc2b2c70",
      "metadata": {
        "id": "fc2b2c70"
      },
      "source": [
        "- #### 3.8.1 Individually checking correlations :"
      ]
    },
    {
      "cell_type": "code",
      "execution_count": 23,
      "id": "4adc57af",
      "metadata": {
        "id": "4adc57af",
        "outputId": "6b88e9ca-2538-4723-f79f-20a324f9dab8",
        "colab": {
          "base_uri": "https://localhost:8080/",
          "height": 0
        }
      },
      "outputs": [
        {
          "output_type": "execute_result",
          "data": {
            "text/plain": [
              "0.9938277978737916"
            ]
          },
          "metadata": {},
          "execution_count": 23
        }
      ],
      "source": [
        "df['num_root'].corr(df['num_compromised'])"
      ]
    },
    {
      "cell_type": "code",
      "execution_count": 24,
      "id": "42abca88",
      "metadata": {
        "id": "42abca88",
        "outputId": "5b387dc1-48a3-421f-95dd-3c31a6ef7477",
        "colab": {
          "base_uri": "https://localhost:8080/",
          "height": 0
        }
      },
      "outputs": [
        {
          "output_type": "execute_result",
          "data": {
            "text/plain": [
              "0.998361507272553"
            ]
          },
          "metadata": {},
          "execution_count": 24
        }
      ],
      "source": [
        "df['srv_serror_rate'].corr(df['serror_rate'])"
      ]
    },
    {
      "cell_type": "code",
      "execution_count": 25,
      "id": "3af30721",
      "metadata": {
        "id": "3af30721",
        "outputId": "12300263-5c25-4ea3-9a35-f35138297c67",
        "colab": {
          "base_uri": "https://localhost:8080/",
          "height": 0
        }
      },
      "outputs": [
        {
          "output_type": "execute_result",
          "data": {
            "text/plain": [
              "0.9436670688882645"
            ]
          },
          "metadata": {},
          "execution_count": 25
        }
      ],
      "source": [
        "df['srv_count'].corr(df['count'])"
      ]
    },
    {
      "cell_type": "code",
      "execution_count": 26,
      "id": "0b5a2514",
      "metadata": {
        "id": "0b5a2514",
        "outputId": "ceb231d8-4407-4038-883d-5bc3dba5d869",
        "colab": {
          "base_uri": "https://localhost:8080/",
          "height": 0
        }
      },
      "outputs": [
        {
          "output_type": "execute_result",
          "data": {
            "text/plain": [
              "0.9947309539818242"
            ]
          },
          "metadata": {},
          "execution_count": 26
        }
      ],
      "source": [
        "df['srv_rerror_rate'].corr(df['rerror_rate'])"
      ]
    },
    {
      "cell_type": "code",
      "execution_count": 27,
      "id": "f95e8dd9",
      "metadata": {
        "id": "f95e8dd9",
        "outputId": "0b49b926-81b9-4f85-fb30-cc94efaaf7b8",
        "colab": {
          "base_uri": "https://localhost:8080/",
          "height": 0
        }
      },
      "outputs": [
        {
          "output_type": "execute_result",
          "data": {
            "text/plain": [
              "0.9736854572953835"
            ]
          },
          "metadata": {},
          "execution_count": 27
        }
      ],
      "source": [
        "df['dst_host_same_srv_rate'].corr(df['dst_host_srv_count'])"
      ]
    },
    {
      "cell_type": "code",
      "execution_count": 28,
      "id": "343c2200",
      "metadata": {
        "id": "343c2200",
        "outputId": "ff18b2b6-daea-450d-b1d5-790824e24d77",
        "colab": {
          "base_uri": "https://localhost:8080/",
          "height": 0
        }
      },
      "outputs": [
        {
          "output_type": "execute_result",
          "data": {
            "text/plain": [
              "0.9981559173373293"
            ]
          },
          "metadata": {},
          "execution_count": 28
        }
      ],
      "source": [
        "df['dst_host_srv_serror_rate'].corr(df['dst_host_serror_rate'])"
      ]
    },
    {
      "cell_type": "code",
      "execution_count": 29,
      "id": "af32da73",
      "metadata": {
        "id": "af32da73",
        "outputId": "d8b98bf5-a2c0-4b15-a151-9bf4a3d94b46",
        "colab": {
          "base_uri": "https://localhost:8080/",
          "height": 0
        }
      },
      "outputs": [
        {
          "output_type": "execute_result",
          "data": {
            "text/plain": [
              "0.9848038371110285"
            ]
          },
          "metadata": {},
          "execution_count": 29
        }
      ],
      "source": [
        "df['dst_host_srv_rerror_rate'].corr(df['dst_host_rerror_rate'])"
      ]
    },
    {
      "cell_type": "code",
      "execution_count": 30,
      "id": "74e29523",
      "metadata": {
        "id": "74e29523",
        "outputId": "a8a6bb51-5c7e-4822-e188-ce34edb2c762",
        "colab": {
          "base_uri": "https://localhost:8080/",
          "height": 0
        }
      },
      "outputs": [
        {
          "output_type": "execute_result",
          "data": {
            "text/plain": [
              "0.9278080342690969"
            ]
          },
          "metadata": {},
          "execution_count": 30
        }
      ],
      "source": [
        "df['dst_host_same_srv_rate'].corr(df['same_srv_rate'])"
      ]
    },
    {
      "cell_type": "code",
      "execution_count": 31,
      "id": "c9f4972a",
      "metadata": {
        "id": "c9f4972a",
        "outputId": "9a21153b-f026-4875-f804-5a7991756735",
        "colab": {
          "base_uri": "https://localhost:8080/",
          "height": 0
        }
      },
      "outputs": [
        {
          "output_type": "execute_result",
          "data": {
            "text/plain": [
              "0.8989546630323716"
            ]
          },
          "metadata": {},
          "execution_count": 31
        }
      ],
      "source": [
        "df['dst_host_srv_count'].corr(df['same_srv_rate'])"
      ]
    },
    {
      "cell_type": "code",
      "execution_count": 32,
      "id": "bf7348a4",
      "metadata": {
        "id": "bf7348a4",
        "outputId": "256ec1cf-8bde-4254-8465-cd1cc060f6ae",
        "colab": {
          "base_uri": "https://localhost:8080/",
          "height": 0
        }
      },
      "outputs": [
        {
          "output_type": "execute_result",
          "data": {
            "text/plain": [
              "0.944926367678324"
            ]
          },
          "metadata": {},
          "execution_count": 32
        }
      ],
      "source": [
        "df['dst_host_same_src_port_rate'].corr(df['srv_count'])"
      ]
    },
    {
      "cell_type": "code",
      "execution_count": 33,
      "id": "1f9fadb8",
      "metadata": {
        "id": "1f9fadb8",
        "outputId": "8ebacd03-c341-4549-bba6-773797b1aa14",
        "colab": {
          "base_uri": "https://localhost:8080/",
          "height": 0
        }
      },
      "outputs": [
        {
          "output_type": "execute_result",
          "data": {
            "text/plain": [
              "0.9986729680104371"
            ]
          },
          "metadata": {},
          "execution_count": 33
        }
      ],
      "source": [
        "df['dst_host_serror_rate'].corr(df['serror_rate'])"
      ]
    },
    {
      "cell_type": "code",
      "execution_count": 34,
      "id": "00b743a8",
      "metadata": {
        "id": "00b743a8",
        "outputId": "e08e846b-d122-4ac8-c8de-e2b95712ab56",
        "colab": {
          "base_uri": "https://localhost:8080/",
          "height": 0
        }
      },
      "outputs": [
        {
          "output_type": "execute_result",
          "data": {
            "text/plain": [
              "0.9978353003739603"
            ]
          },
          "metadata": {},
          "execution_count": 34
        }
      ],
      "source": [
        "df['dst_host_serror_rate'].corr(df['srv_serror_rate'])"
      ]
    },
    {
      "cell_type": "code",
      "execution_count": 35,
      "id": "0bc405be",
      "metadata": {
        "id": "0bc405be",
        "outputId": "bcfd36e8-0057-445c-f5ba-bb97f89fe1b0",
        "colab": {
          "base_uri": "https://localhost:8080/",
          "height": 0
        }
      },
      "outputs": [
        {
          "output_type": "execute_result",
          "data": {
            "text/plain": [
              "0.997849248567986"
            ]
          },
          "metadata": {},
          "execution_count": 35
        }
      ],
      "source": [
        "df['dst_host_srv_serror_rate'].corr(df['serror_rate'])"
      ]
    },
    {
      "cell_type": "code",
      "execution_count": 36,
      "id": "6b0f5bb4",
      "metadata": {
        "id": "6b0f5bb4",
        "outputId": "74ce332e-573d-4a38-d3d6-45349dc0819f",
        "colab": {
          "base_uri": "https://localhost:8080/",
          "height": 0
        }
      },
      "outputs": [
        {
          "output_type": "execute_result",
          "data": {
            "text/plain": [
              "0.999304109185027"
            ]
          },
          "metadata": {},
          "execution_count": 36
        }
      ],
      "source": [
        "df['dst_host_srv_serror_rate'].corr(df['srv_serror_rate'])"
      ]
    },
    {
      "cell_type": "code",
      "execution_count": 37,
      "id": "c2016aa4",
      "metadata": {
        "id": "c2016aa4",
        "outputId": "5ebcc567-4641-47a2-ce93-9b69ab1aa1c9",
        "colab": {
          "base_uri": "https://localhost:8080/",
          "height": 0
        }
      },
      "outputs": [
        {
          "output_type": "execute_result",
          "data": {
            "text/plain": [
              "0.986994792495618"
            ]
          },
          "metadata": {},
          "execution_count": 37
        }
      ],
      "source": [
        "df['dst_host_rerror_rate'].corr(df['rerror_rate'])"
      ]
    },
    {
      "cell_type": "code",
      "execution_count": 38,
      "id": "79bb89a7",
      "metadata": {
        "id": "79bb89a7",
        "outputId": "feec9d00-e815-4225-f02f-291a4af35e4f",
        "colab": {
          "base_uri": "https://localhost:8080/",
          "height": 0
        }
      },
      "outputs": [
        {
          "output_type": "execute_result",
          "data": {
            "text/plain": [
              "0.9821663427308264"
            ]
          },
          "metadata": {},
          "execution_count": 38
        }
      ],
      "source": [
        "df['dst_host_rerror_rate'].corr(df['srv_rerror_rate'])"
      ]
    },
    {
      "cell_type": "code",
      "execution_count": 39,
      "id": "a8a9fc92",
      "metadata": {
        "id": "a8a9fc92",
        "outputId": "7d5430b0-e9c9-48c5-fe9c-2713b0844c2d",
        "colab": {
          "base_uri": "https://localhost:8080/",
          "height": 0
        }
      },
      "outputs": [
        {
          "output_type": "execute_result",
          "data": {
            "text/plain": [
              "0.9851995540751695"
            ]
          },
          "metadata": {},
          "execution_count": 39
        }
      ],
      "source": [
        "df['dst_host_srv_rerror_rate'].corr(df['rerror_rate'])"
      ]
    },
    {
      "cell_type": "code",
      "execution_count": 40,
      "id": "7f35f65a",
      "metadata": {
        "id": "7f35f65a",
        "outputId": "aa6caa11-86ff-422c-b0b3-814366a1e76c",
        "colab": {
          "base_uri": "https://localhost:8080/",
          "height": 0
        }
      },
      "outputs": [
        {
          "output_type": "execute_result",
          "data": {
            "text/plain": [
              "0.9865705438845764"
            ]
          },
          "metadata": {},
          "execution_count": 40
        }
      ],
      "source": [
        "df['dst_host_srv_rerror_rate'].corr(df['srv_rerror_rate'])"
      ]
    },
    {
      "cell_type": "markdown",
      "id": "5052c317",
      "metadata": {
        "id": "5052c317"
      },
      "source": [
        "#### 3.9\n",
        "\n",
        "#### All these columns/features are highly correlated with values around +9.8.\n",
        "\n",
        "It would be beneficial to drop them from the dataset for :\n",
        "\n",
        "1) Reducing multicollinearity\n",
        "2) Reducing redundancy\n",
        "3) Reducing Overfitting\n",
        "4) Enhancing Interpretability\n"
      ]
    },
    {
      "cell_type": "code",
      "execution_count": 41,
      "id": "0ec1d42d",
      "metadata": {
        "id": "0ec1d42d"
      },
      "outputs": [],
      "source": [
        "df.drop('num_root',axis = 1,inplace = True)\n",
        "df.drop('srv_serror_rate',axis = 1,inplace = True)\n",
        "df.drop('srv_rerror_rate',axis = 1, inplace=True)\n",
        "df.drop('dst_host_srv_serror_rate',axis = 1, inplace=True)\n",
        "df.drop('dst_host_serror_rate',axis = 1, inplace=True)\n",
        "df.drop('dst_host_rerror_rate',axis = 1, inplace=True)\n",
        "df.drop('dst_host_srv_rerror_rate',axis = 1, inplace=True)\n",
        "df.drop('dst_host_same_srv_rate',axis = 1, inplace=True)"
      ]
    },
    {
      "cell_type": "markdown",
      "id": "a34e0e6c",
      "metadata": {
        "id": "a34e0e6c"
      },
      "source": [
        "- #### 3.10 Making a sorted copy of dataset :"
      ]
    },
    {
      "cell_type": "code",
      "execution_count": 44,
      "id": "527dd83f",
      "metadata": {
        "id": "527dd83f",
        "outputId": "77d40407-61f3-47f1-811f-1ec8d30a01f4",
        "colab": {
          "base_uri": "https://localhost:8080/",
          "height": 0
        }
      },
      "outputs": [
        {
          "output_type": "execute_result",
          "data": {
            "text/plain": [
              "urgent                              0.005510\n",
              "land                                0.006673\n",
              "su_attempted                        0.007793\n",
              "root_shell                          0.010551\n",
              "num_shells                          0.011020\n",
              "num_failed_logins                   0.015520\n",
              "num_access_files                    0.036482\n",
              "is_guest_login                      0.037211\n",
              "dst_host_srv_diff_host_rate         0.042133\n",
              "diff_srv_rate                       0.082205\n",
              "num_file_creations                  0.096416\n",
              "dst_host_diff_srv_rate              0.109259\n",
              "wrong_fragment                      0.134805\n",
              "srv_diff_host_rate                  0.142397\n",
              "rerror_rate                         0.231623\n",
              "logged_in                           0.355345\n",
              "serror_rate                         0.380717\n",
              "same_srv_rate                       0.388189\n",
              "dst_host_same_src_port_rate         0.481309\n",
              "hot                                 0.782103\n",
              "num_compromised                     1.798326\n",
              "dst_host_count                     64.745380\n",
              "dst_host_srv_count                106.040437\n",
              "count                             213.147412\n",
              "srv_count                         246.322817\n",
              "duration                          707.746472\n",
              "dst_bytes                       33040.001252\n",
              "src_bytes                      988218.101050\n",
              "dtype: float64"
            ]
          },
          "metadata": {},
          "execution_count": 44
        }
      ],
      "source": [
        "df_std = df.std(numeric_only=True)\n",
        "df_std = df_std.sort_values(ascending = True)\n",
        "df_std"
      ]
    },
    {
      "cell_type": "markdown",
      "id": "53576bea",
      "metadata": {
        "id": "53576bea"
      },
      "source": [
        "- #### 3.11 Converting categories to numbers by making dictionaries and mapping with integer indexes (similar to encoding) :\n",
        "\n",
        "    ! This step is essential to prepare dataset for use by ML/DL algorithms."
      ]
    },
    {
      "cell_type": "markdown",
      "id": "27ffd75a",
      "metadata": {
        "id": "27ffd75a"
      },
      "source": [
        "&rarr;     3.11.1 Converting Protocol types"
      ]
    },
    {
      "cell_type": "code",
      "execution_count": 45,
      "id": "2075283d",
      "metadata": {
        "id": "2075283d",
        "outputId": "025e3579-0b68-46d6-b214-b016f2efdcd6",
        "colab": {
          "base_uri": "https://localhost:8080/",
          "height": 0
        }
      },
      "outputs": [
        {
          "output_type": "execute_result",
          "data": {
            "text/plain": [
              "protocol_type\n",
              "icmp    283602\n",
              "tcp     190065\n",
              "udp      20354\n",
              "Name: count, dtype: int64"
            ]
          },
          "metadata": {},
          "execution_count": 45
        }
      ],
      "source": [
        "df['protocol_type'].value_counts()"
      ]
    },
    {
      "cell_type": "code",
      "execution_count": 46,
      "id": "aec3bbaa",
      "metadata": {
        "id": "aec3bbaa"
      },
      "outputs": [],
      "source": [
        "pmap = {'icmp':0,'tcp':1,'udp':2}\n",
        "df['protocol_type'] = df['protocol_type'].map(pmap)"
      ]
    },
    {
      "cell_type": "markdown",
      "id": "8a3eb1db",
      "metadata": {
        "id": "8a3eb1db"
      },
      "source": [
        "&rarr; Converting Flag types"
      ]
    },
    {
      "cell_type": "code",
      "execution_count": 47,
      "id": "76663c92",
      "metadata": {
        "id": "76663c92",
        "outputId": "e4214b45-684b-463c-8f78-60e8fd1c1aa6",
        "colab": {
          "base_uri": "https://localhost:8080/",
          "height": 0
        }
      },
      "outputs": [
        {
          "output_type": "execute_result",
          "data": {
            "text/plain": [
              "flag\n",
              "SF        378440\n",
              "S0         87007\n",
              "REJ        26875\n",
              "RSTR         903\n",
              "RSTO         579\n",
              "SH           107\n",
              "S1            57\n",
              "S2            24\n",
              "RSTOS0        11\n",
              "S3            10\n",
              "OTH            8\n",
              "Name: count, dtype: int64"
            ]
          },
          "metadata": {},
          "execution_count": 47
        }
      ],
      "source": [
        "df['flag'].value_counts()"
      ]
    },
    {
      "cell_type": "code",
      "execution_count": 48,
      "id": "7faf9988",
      "metadata": {
        "id": "7faf9988"
      },
      "outputs": [],
      "source": [
        "fmap = {'SF':0,'S0':1,'REJ':2,'RSTR':3,'RSTO':4,'SH':5 ,'S1':6 ,'S2':7,'RSTOS0':8,'S3':9 ,'OTH':10}\n",
        "df['flag'] = df['flag'].map(fmap)"
      ]
    },
    {
      "cell_type": "markdown",
      "id": "b54c36a0",
      "metadata": {
        "id": "b54c36a0"
      },
      "source": [
        "&rarr; Dropping 'service' column\n",
        "\n",
        " The feature has large number of categories with imbalanced values, encoding for which will not prove fruitful."
      ]
    },
    {
      "cell_type": "code",
      "execution_count": 49,
      "id": "9394387d",
      "metadata": {
        "id": "9394387d"
      },
      "outputs": [],
      "source": [
        "df.drop('service',axis = 1,inplace= True)"
      ]
    },
    {
      "cell_type": "markdown",
      "id": "16b7f184",
      "metadata": {
        "id": "16b7f184"
      },
      "source": [
        "<br>"
      ]
    },
    {
      "cell_type": "markdown",
      "id": "19308de6",
      "metadata": {
        "id": "19308de6"
      },
      "source": [
        "- #### 3.12 Dividing the input and output (target variables)\n",
        "\n",
        "    Target variable : Attack Type"
      ]
    },
    {
      "cell_type": "code",
      "execution_count": 50,
      "id": "9b47bd3f",
      "metadata": {
        "id": "9b47bd3f",
        "outputId": "5decf026-cd97-4586-b525-cb862bf87551",
        "colab": {
          "base_uri": "https://localhost:8080/",
          "height": 0
        }
      },
      "outputs": [
        {
          "output_type": "stream",
          "name": "stdout",
          "text": [
            "(494021, 31)\n"
          ]
        }
      ],
      "source": [
        "df = df.drop(['target',], axis=1)\n",
        "print(df.shape)"
      ]
    },
    {
      "cell_type": "code",
      "execution_count": 51,
      "id": "4344c6cf",
      "metadata": {
        "id": "4344c6cf"
      },
      "outputs": [],
      "source": [
        "Y = df[['Attack Type']]\n",
        "X = df.drop(['Attack Type',], axis=1)\n"
      ]
    },
    {
      "cell_type": "markdown",
      "id": "e6eaa8dc",
      "metadata": {
        "id": "e6eaa8dc"
      },
      "source": [
        "- #### 3.13 Standardizing and scaling the values\n",
        "\n",
        "  Done using the MinMaxScaler() on the data"
      ]
    },
    {
      "cell_type": "code",
      "execution_count": 52,
      "id": "0dc0b851",
      "metadata": {
        "id": "0dc0b851"
      },
      "outputs": [],
      "source": [
        "sc = MinMaxScaler()\n",
        "X = sc.fit_transform(X)"
      ]
    },
    {
      "cell_type": "markdown",
      "id": "d33787f4",
      "metadata": {
        "id": "d33787f4"
      },
      "source": [
        "- #### 3.14 Splitting the dataset into training and testing set\n",
        "\n"
      ]
    },
    {
      "cell_type": "code",
      "execution_count": 53,
      "id": "c6357349",
      "metadata": {
        "id": "c6357349"
      },
      "outputs": [],
      "source": [
        "X_train, X_test, Y_train, Y_test = train_test_split(X, Y, test_size=0.33, random_state=42)\n",
        "\n",
        "#X_train, X_val, y_train, y_val = train_test_split(X_train, y_train, test_size=0.25, random_state=42)"
      ]
    },
    {
      "cell_type": "code",
      "execution_count": 54,
      "id": "4f5ed14b",
      "metadata": {
        "id": "4f5ed14b",
        "outputId": "be971636-49db-4398-8217-ab1b628abb0c",
        "colab": {
          "base_uri": "https://localhost:8080/",
          "height": 0
        }
      },
      "outputs": [
        {
          "output_type": "stream",
          "name": "stdout",
          "text": [
            "(330994, 30) (163027, 30)\n",
            "(330994, 1) (163027, 1)\n"
          ]
        }
      ],
      "source": [
        "print(X_train.shape, X_test.shape)\n",
        "print(Y_train.shape, Y_test.shape)"
      ]
    },
    {
      "cell_type": "markdown",
      "id": "b47812ca",
      "metadata": {
        "id": "b47812ca"
      },
      "source": [
        "----"
      ]
    },
    {
      "cell_type": "markdown",
      "id": "ed0142f0",
      "metadata": {
        "id": "ed0142f0"
      },
      "source": [
        "### 4. Model Selection and training\n",
        "\n",
        "- We will <b>instantiate</b> a set of traditional ML models and a set of deep learning neural networks.\n",
        "\n",
        "- To track model performance, we will make a dataframe to track training/testing time, accuracy and score.\n",
        "\n",
        "- First, we will begin with statistical and probabilistic models, then move on to neural networks."
      ]
    },
    {
      "cell_type": "markdown",
      "id": "7e88ab3d",
      "metadata": {
        "id": "7e88ab3d"
      },
      "source": [
        "<br>\n",
        "- Making a dataframe statmod_metrics to track model performance :"
      ]
    },
    {
      "cell_type": "code",
      "execution_count": 89,
      "id": "dded0674",
      "metadata": {
        "id": "dded0674"
      },
      "outputs": [],
      "source": [
        "columns1 = ['Method','Train Accuracy','Test Accuracy','Training Time','Testing Time','Precision']\n",
        "dtypes1 = {'Method': str, 'Train Accuracy': float, 'Test Accuracy': float,'Training Time':float,'Testing Time':float,'Precision':float}\n",
        "\n",
        "\n",
        "statmod_metrics = pd.DataFrame(columns=columns1)\n",
        "\n",
        "for col, dtype in dtypes1.items():\n",
        "    statmod_metrics[col] = statmod_metrics[col].astype(dtype)\n",
        "\n"
      ]
    },
    {
      "cell_type": "code",
      "execution_count": 90,
      "id": "0a8efd9b",
      "metadata": {
        "id": "0a8efd9b",
        "outputId": "7360a44a-af82-4936-e5af-8bdaada92d5d",
        "colab": {
          "base_uri": "https://localhost:8080/",
          "height": 0
        }
      },
      "outputs": [
        {
          "output_type": "execute_result",
          "data": {
            "text/plain": [
              "Method             object\n",
              "Train Accuracy    float64\n",
              "Test Accuracy     float64\n",
              "Training Time     float64\n",
              "Testing Time      float64\n",
              "Precision         float64\n",
              "dtype: object"
            ]
          },
          "metadata": {},
          "execution_count": 90
        }
      ],
      "source": [
        "statmod_metrics.dtypes"
      ]
    },
    {
      "cell_type": "markdown",
      "id": "fad7ff71",
      "metadata": {
        "id": "fad7ff71"
      },
      "source": [
        "## Defining helper functions :\n",
        "\n",
        "- Trains and tests a model on the data.\n",
        "\n",
        "- Stores performance metrics to our dataframe"
      ]
    },
    {
      "cell_type": "code",
      "execution_count": 91,
      "id": "a38f1e1f",
      "metadata": {
        "id": "a38f1e1f"
      },
      "outputs": [],
      "source": [
        "#for statistical models\n",
        "def run_model(model,name,xtr,ytr,xte,yte,dfx):\n",
        "\n",
        "    start_time = time.time()\n",
        "\n",
        "    model.fit(xtr,ytr.values.ravel())\n",
        "\n",
        "    end_time = time.time()\n",
        "\n",
        "    training_time = end_time - start_time\n",
        "\n",
        "    start_time1 = time.time()\n",
        "\n",
        "    y_pred=model.predict(xte)\n",
        "\n",
        "    end_time1 = time.time ()\n",
        "\n",
        "    testing_time = end_time1-start_time1\n",
        "\n",
        "    train_accuracy = model.score(xtr,ytr)\n",
        "\n",
        "    test_accuracy = model.score(xte,yte)\n",
        "\n",
        "    precision = precision_score(yte, y_pred, average='weighted')\n",
        "\n",
        "    #print(precision)\n",
        "\n",
        "\n",
        "\n",
        "    # Inserting all recorded metrics to our dataframe\n",
        "    new_row = {'Method': name, 'Train Accuracy': train_accuracy, 'Test Accuracy': test_accuracy,'Training Time':training_time,'Testing Time':testing_time,'Precision':precision}\n",
        "    dfx = dfx._append(new_row, ignore_index=True)\n",
        "    return dfx\n",
        "\n",
        "\n"
      ]
    },
    {
      "cell_type": "markdown",
      "id": "f212c172",
      "metadata": {
        "id": "f212c172"
      },
      "source": [
        "-  ### 4.1 Gaussian Naive Bayes"
      ]
    },
    {
      "cell_type": "code",
      "execution_count": 92,
      "id": "2daca85b",
      "metadata": {
        "id": "2daca85b"
      },
      "outputs": [],
      "source": [
        "gnb = GaussianNB()\n",
        "name_gnb='Gaussian Naive Bayes'"
      ]
    },
    {
      "cell_type": "code",
      "execution_count": 93,
      "id": "40330485",
      "metadata": {
        "id": "40330485"
      },
      "outputs": [],
      "source": [
        "statmod_metrics=run_model(gnb,name_gnb,X_train,Y_train,X_test,Y_test,statmod_metrics)"
      ]
    },
    {
      "cell_type": "markdown",
      "id": "3d95e3ab",
      "metadata": {
        "id": "3d95e3ab"
      },
      "source": [
        "- ### 4.2 Decision Tree Classifier"
      ]
    },
    {
      "cell_type": "code",
      "execution_count": 95,
      "id": "b4f938c4",
      "metadata": {
        "id": "b4f938c4"
      },
      "outputs": [],
      "source": [
        "dec_tree = DecisionTreeClassifier(criterion=\"entropy\", max_depth = 4)\n",
        "name_dectree = 'Decision Tree Classifier'"
      ]
    },
    {
      "cell_type": "code",
      "execution_count": 96,
      "id": "822119ef",
      "metadata": {
        "id": "822119ef",
        "colab": {
          "base_uri": "https://localhost:8080/",
          "height": 0
        },
        "outputId": "d7c4e426-fae5-48bd-9ee5-6f2138b4f91c"
      },
      "outputs": [
        {
          "output_type": "stream",
          "name": "stderr",
          "text": [
            "/usr/local/lib/python3.10/dist-packages/sklearn/metrics/_classification.py:1509: UndefinedMetricWarning: Precision is ill-defined and being set to 0.0 in labels with no predicted samples. Use `zero_division` parameter to control this behavior.\n",
            "  _warn_prf(average, modifier, f\"{metric.capitalize()} is\", len(result))\n"
          ]
        }
      ],
      "source": [
        "statmod_metrics=run_model(dec_tree,name_dectree,X_train,Y_train,X_test,Y_test,statmod_metrics)"
      ]
    },
    {
      "cell_type": "markdown",
      "id": "29265a3d",
      "metadata": {
        "id": "29265a3d"
      },
      "source": [
        "- ### 4.3 Random Forest Classifier"
      ]
    },
    {
      "cell_type": "code",
      "execution_count": 98,
      "id": "a0fb9039",
      "metadata": {
        "id": "a0fb9039"
      },
      "outputs": [],
      "source": [
        "rnfc = RandomForestClassifier(n_estimators=30)\n",
        "name_rnf = 'Random Forest Classifier'"
      ]
    },
    {
      "cell_type": "code",
      "execution_count": 99,
      "id": "7f0941c1",
      "metadata": {
        "id": "7f0941c1"
      },
      "outputs": [],
      "source": [
        "statmod_metrics=run_model(rnfc,name_rnf,X_train,Y_train,X_test,Y_test,statmod_metrics)"
      ]
    },
    {
      "cell_type": "markdown",
      "id": "aaf0c8f2",
      "metadata": {
        "id": "aaf0c8f2"
      },
      "source": [
        "- ### 4.4 Support Vector Classifier"
      ]
    },
    {
      "cell_type": "code",
      "execution_count": 100,
      "id": "0ffa1ebd",
      "metadata": {
        "id": "0ffa1ebd"
      },
      "outputs": [],
      "source": [
        "svcm = SVC(gamma = 'scale')\n",
        "name_svc = 'Support Vector Classifier'"
      ]
    },
    {
      "cell_type": "code",
      "execution_count": 101,
      "id": "db398c1d",
      "metadata": {
        "id": "db398c1d"
      },
      "outputs": [],
      "source": [
        "statmod_metrics=run_model(svcm,name_svc,X_train,Y_train,X_test,Y_test,statmod_metrics)"
      ]
    },
    {
      "cell_type": "markdown",
      "id": "0a9b750d",
      "metadata": {
        "id": "0a9b750d"
      },
      "source": [
        "- ### 4.5 Logistic Regression"
      ]
    },
    {
      "cell_type": "code",
      "execution_count": 102,
      "id": "c9131a14",
      "metadata": {
        "id": "c9131a14"
      },
      "outputs": [],
      "source": [
        "log_reg = LogisticRegression(max_iter=1200000)\n",
        "name_lreg = 'Logistic Regression'"
      ]
    },
    {
      "cell_type": "code",
      "execution_count": 103,
      "id": "3018be2a",
      "metadata": {
        "id": "3018be2a"
      },
      "outputs": [],
      "source": [
        "statmod_metrics=run_model(log_reg,name_lreg,X_train,Y_train,X_test,Y_test,statmod_metrics)"
      ]
    },
    {
      "cell_type": "markdown",
      "id": "4ddd7fce",
      "metadata": {
        "id": "4ddd7fce"
      },
      "source": [
        "- ### 4.6 Gradient Boosting Classifier"
      ]
    },
    {
      "cell_type": "code",
      "execution_count": 104,
      "id": "09f0a1d1",
      "metadata": {
        "id": "09f0a1d1"
      },
      "outputs": [],
      "source": [
        "gbc = GradientBoostingClassifier(random_state=0)\n",
        "name_gbc = 'Gradient Boosting '"
      ]
    },
    {
      "cell_type": "code",
      "execution_count": 105,
      "id": "d9211008",
      "metadata": {
        "id": "d9211008"
      },
      "outputs": [],
      "source": [
        "statmod_metrics=run_model(gbc,name_gbc,X_train,Y_train,X_test,Y_test,statmod_metrics)"
      ]
    },
    {
      "cell_type": "code",
      "execution_count": 106,
      "id": "05e4196a",
      "metadata": {
        "id": "05e4196a",
        "colab": {
          "base_uri": "https://localhost:8080/",
          "height": 237
        },
        "outputId": "9f1d4a89-8d4f-4981-d37b-33d81aabd649"
      },
      "outputs": [
        {
          "output_type": "execute_result",
          "data": {
            "text/plain": [
              "                      Method  Train Accuracy  Test Accuracy  Training Time  \\\n",
              "0       Gaussian Naive Bayes        0.879511       0.879038       0.646041   \n",
              "1   Decision Tree Classifier        0.990583       0.990523       1.785276   \n",
              "2   Random Forest Classifier        0.999979       0.999644       9.630461   \n",
              "3  Support Vector Classifier        0.998755       0.998792     174.219209   \n",
              "4        Logistic Regression        0.993504       0.993480       8.441094   \n",
              "5         Gradient Boosting         0.997930       0.997718     406.654238   \n",
              "\n",
              "   Testing Time  Precision  \n",
              "0      0.240698   0.966479  \n",
              "1      0.015888   0.990204  \n",
              "2      0.299757   0.999641  \n",
              "3     66.594274   0.998782  \n",
              "4      0.025799   0.993573  \n",
              "5      1.095271   0.997919  "
            ],
            "text/html": [
              "\n",
              "  <div id=\"df-054753e6-3ac5-401a-b5c3-e82b5740cfe7\" class=\"colab-df-container\">\n",
              "    <div>\n",
              "<style scoped>\n",
              "    .dataframe tbody tr th:only-of-type {\n",
              "        vertical-align: middle;\n",
              "    }\n",
              "\n",
              "    .dataframe tbody tr th {\n",
              "        vertical-align: top;\n",
              "    }\n",
              "\n",
              "    .dataframe thead th {\n",
              "        text-align: right;\n",
              "    }\n",
              "</style>\n",
              "<table border=\"1\" class=\"dataframe\">\n",
              "  <thead>\n",
              "    <tr style=\"text-align: right;\">\n",
              "      <th></th>\n",
              "      <th>Method</th>\n",
              "      <th>Train Accuracy</th>\n",
              "      <th>Test Accuracy</th>\n",
              "      <th>Training Time</th>\n",
              "      <th>Testing Time</th>\n",
              "      <th>Precision</th>\n",
              "    </tr>\n",
              "  </thead>\n",
              "  <tbody>\n",
              "    <tr>\n",
              "      <th>0</th>\n",
              "      <td>Gaussian Naive Bayes</td>\n",
              "      <td>0.879511</td>\n",
              "      <td>0.879038</td>\n",
              "      <td>0.646041</td>\n",
              "      <td>0.240698</td>\n",
              "      <td>0.966479</td>\n",
              "    </tr>\n",
              "    <tr>\n",
              "      <th>1</th>\n",
              "      <td>Decision Tree Classifier</td>\n",
              "      <td>0.990583</td>\n",
              "      <td>0.990523</td>\n",
              "      <td>1.785276</td>\n",
              "      <td>0.015888</td>\n",
              "      <td>0.990204</td>\n",
              "    </tr>\n",
              "    <tr>\n",
              "      <th>2</th>\n",
              "      <td>Random Forest Classifier</td>\n",
              "      <td>0.999979</td>\n",
              "      <td>0.999644</td>\n",
              "      <td>9.630461</td>\n",
              "      <td>0.299757</td>\n",
              "      <td>0.999641</td>\n",
              "    </tr>\n",
              "    <tr>\n",
              "      <th>3</th>\n",
              "      <td>Support Vector Classifier</td>\n",
              "      <td>0.998755</td>\n",
              "      <td>0.998792</td>\n",
              "      <td>174.219209</td>\n",
              "      <td>66.594274</td>\n",
              "      <td>0.998782</td>\n",
              "    </tr>\n",
              "    <tr>\n",
              "      <th>4</th>\n",
              "      <td>Logistic Regression</td>\n",
              "      <td>0.993504</td>\n",
              "      <td>0.993480</td>\n",
              "      <td>8.441094</td>\n",
              "      <td>0.025799</td>\n",
              "      <td>0.993573</td>\n",
              "    </tr>\n",
              "    <tr>\n",
              "      <th>5</th>\n",
              "      <td>Gradient Boosting</td>\n",
              "      <td>0.997930</td>\n",
              "      <td>0.997718</td>\n",
              "      <td>406.654238</td>\n",
              "      <td>1.095271</td>\n",
              "      <td>0.997919</td>\n",
              "    </tr>\n",
              "  </tbody>\n",
              "</table>\n",
              "</div>\n",
              "    <div class=\"colab-df-buttons\">\n",
              "\n",
              "  <div class=\"colab-df-container\">\n",
              "    <button class=\"colab-df-convert\" onclick=\"convertToInteractive('df-054753e6-3ac5-401a-b5c3-e82b5740cfe7')\"\n",
              "            title=\"Convert this dataframe to an interactive table.\"\n",
              "            style=\"display:none;\">\n",
              "\n",
              "  <svg xmlns=\"http://www.w3.org/2000/svg\" height=\"24px\" viewBox=\"0 -960 960 960\">\n",
              "    <path d=\"M120-120v-720h720v720H120Zm60-500h600v-160H180v160Zm220 220h160v-160H400v160Zm0 220h160v-160H400v160ZM180-400h160v-160H180v160Zm440 0h160v-160H620v160ZM180-180h160v-160H180v160Zm440 0h160v-160H620v160Z\"/>\n",
              "  </svg>\n",
              "    </button>\n",
              "\n",
              "  <style>\n",
              "    .colab-df-container {\n",
              "      display:flex;\n",
              "      gap: 12px;\n",
              "    }\n",
              "\n",
              "    .colab-df-convert {\n",
              "      background-color: #E8F0FE;\n",
              "      border: none;\n",
              "      border-radius: 50%;\n",
              "      cursor: pointer;\n",
              "      display: none;\n",
              "      fill: #1967D2;\n",
              "      height: 32px;\n",
              "      padding: 0 0 0 0;\n",
              "      width: 32px;\n",
              "    }\n",
              "\n",
              "    .colab-df-convert:hover {\n",
              "      background-color: #E2EBFA;\n",
              "      box-shadow: 0px 1px 2px rgba(60, 64, 67, 0.3), 0px 1px 3px 1px rgba(60, 64, 67, 0.15);\n",
              "      fill: #174EA6;\n",
              "    }\n",
              "\n",
              "    .colab-df-buttons div {\n",
              "      margin-bottom: 4px;\n",
              "    }\n",
              "\n",
              "    [theme=dark] .colab-df-convert {\n",
              "      background-color: #3B4455;\n",
              "      fill: #D2E3FC;\n",
              "    }\n",
              "\n",
              "    [theme=dark] .colab-df-convert:hover {\n",
              "      background-color: #434B5C;\n",
              "      box-shadow: 0px 1px 3px 1px rgba(0, 0, 0, 0.15);\n",
              "      filter: drop-shadow(0px 1px 2px rgba(0, 0, 0, 0.3));\n",
              "      fill: #FFFFFF;\n",
              "    }\n",
              "  </style>\n",
              "\n",
              "    <script>\n",
              "      const buttonEl =\n",
              "        document.querySelector('#df-054753e6-3ac5-401a-b5c3-e82b5740cfe7 button.colab-df-convert');\n",
              "      buttonEl.style.display =\n",
              "        google.colab.kernel.accessAllowed ? 'block' : 'none';\n",
              "\n",
              "      async function convertToInteractive(key) {\n",
              "        const element = document.querySelector('#df-054753e6-3ac5-401a-b5c3-e82b5740cfe7');\n",
              "        const dataTable =\n",
              "          await google.colab.kernel.invokeFunction('convertToInteractive',\n",
              "                                                    [key], {});\n",
              "        if (!dataTable) return;\n",
              "\n",
              "        const docLinkHtml = 'Like what you see? Visit the ' +\n",
              "          '<a target=\"_blank\" href=https://colab.research.google.com/notebooks/data_table.ipynb>data table notebook</a>'\n",
              "          + ' to learn more about interactive tables.';\n",
              "        element.innerHTML = '';\n",
              "        dataTable['output_type'] = 'display_data';\n",
              "        await google.colab.output.renderOutput(dataTable, element);\n",
              "        const docLink = document.createElement('div');\n",
              "        docLink.innerHTML = docLinkHtml;\n",
              "        element.appendChild(docLink);\n",
              "      }\n",
              "    </script>\n",
              "  </div>\n",
              "\n",
              "\n",
              "<div id=\"df-34824a9a-b313-471e-8570-37f316682a1e\">\n",
              "  <button class=\"colab-df-quickchart\" onclick=\"quickchart('df-34824a9a-b313-471e-8570-37f316682a1e')\"\n",
              "            title=\"Suggest charts\"\n",
              "            style=\"display:none;\">\n",
              "\n",
              "<svg xmlns=\"http://www.w3.org/2000/svg\" height=\"24px\"viewBox=\"0 0 24 24\"\n",
              "     width=\"24px\">\n",
              "    <g>\n",
              "        <path d=\"M19 3H5c-1.1 0-2 .9-2 2v14c0 1.1.9 2 2 2h14c1.1 0 2-.9 2-2V5c0-1.1-.9-2-2-2zM9 17H7v-7h2v7zm4 0h-2V7h2v10zm4 0h-2v-4h2v4z\"/>\n",
              "    </g>\n",
              "</svg>\n",
              "  </button>\n",
              "\n",
              "<style>\n",
              "  .colab-df-quickchart {\n",
              "      --bg-color: #E8F0FE;\n",
              "      --fill-color: #1967D2;\n",
              "      --hover-bg-color: #E2EBFA;\n",
              "      --hover-fill-color: #174EA6;\n",
              "      --disabled-fill-color: #AAA;\n",
              "      --disabled-bg-color: #DDD;\n",
              "  }\n",
              "\n",
              "  [theme=dark] .colab-df-quickchart {\n",
              "      --bg-color: #3B4455;\n",
              "      --fill-color: #D2E3FC;\n",
              "      --hover-bg-color: #434B5C;\n",
              "      --hover-fill-color: #FFFFFF;\n",
              "      --disabled-bg-color: #3B4455;\n",
              "      --disabled-fill-color: #666;\n",
              "  }\n",
              "\n",
              "  .colab-df-quickchart {\n",
              "    background-color: var(--bg-color);\n",
              "    border: none;\n",
              "    border-radius: 50%;\n",
              "    cursor: pointer;\n",
              "    display: none;\n",
              "    fill: var(--fill-color);\n",
              "    height: 32px;\n",
              "    padding: 0;\n",
              "    width: 32px;\n",
              "  }\n",
              "\n",
              "  .colab-df-quickchart:hover {\n",
              "    background-color: var(--hover-bg-color);\n",
              "    box-shadow: 0 1px 2px rgba(60, 64, 67, 0.3), 0 1px 3px 1px rgba(60, 64, 67, 0.15);\n",
              "    fill: var(--button-hover-fill-color);\n",
              "  }\n",
              "\n",
              "  .colab-df-quickchart-complete:disabled,\n",
              "  .colab-df-quickchart-complete:disabled:hover {\n",
              "    background-color: var(--disabled-bg-color);\n",
              "    fill: var(--disabled-fill-color);\n",
              "    box-shadow: none;\n",
              "  }\n",
              "\n",
              "  .colab-df-spinner {\n",
              "    border: 2px solid var(--fill-color);\n",
              "    border-color: transparent;\n",
              "    border-bottom-color: var(--fill-color);\n",
              "    animation:\n",
              "      spin 1s steps(1) infinite;\n",
              "  }\n",
              "\n",
              "  @keyframes spin {\n",
              "    0% {\n",
              "      border-color: transparent;\n",
              "      border-bottom-color: var(--fill-color);\n",
              "      border-left-color: var(--fill-color);\n",
              "    }\n",
              "    20% {\n",
              "      border-color: transparent;\n",
              "      border-left-color: var(--fill-color);\n",
              "      border-top-color: var(--fill-color);\n",
              "    }\n",
              "    30% {\n",
              "      border-color: transparent;\n",
              "      border-left-color: var(--fill-color);\n",
              "      border-top-color: var(--fill-color);\n",
              "      border-right-color: var(--fill-color);\n",
              "    }\n",
              "    40% {\n",
              "      border-color: transparent;\n",
              "      border-right-color: var(--fill-color);\n",
              "      border-top-color: var(--fill-color);\n",
              "    }\n",
              "    60% {\n",
              "      border-color: transparent;\n",
              "      border-right-color: var(--fill-color);\n",
              "    }\n",
              "    80% {\n",
              "      border-color: transparent;\n",
              "      border-right-color: var(--fill-color);\n",
              "      border-bottom-color: var(--fill-color);\n",
              "    }\n",
              "    90% {\n",
              "      border-color: transparent;\n",
              "      border-bottom-color: var(--fill-color);\n",
              "    }\n",
              "  }\n",
              "</style>\n",
              "\n",
              "  <script>\n",
              "    async function quickchart(key) {\n",
              "      const quickchartButtonEl =\n",
              "        document.querySelector('#' + key + ' button');\n",
              "      quickchartButtonEl.disabled = true;  // To prevent multiple clicks.\n",
              "      quickchartButtonEl.classList.add('colab-df-spinner');\n",
              "      try {\n",
              "        const charts = await google.colab.kernel.invokeFunction(\n",
              "            'suggestCharts', [key], {});\n",
              "      } catch (error) {\n",
              "        console.error('Error during call to suggestCharts:', error);\n",
              "      }\n",
              "      quickchartButtonEl.classList.remove('colab-df-spinner');\n",
              "      quickchartButtonEl.classList.add('colab-df-quickchart-complete');\n",
              "    }\n",
              "    (() => {\n",
              "      let quickchartButtonEl =\n",
              "        document.querySelector('#df-34824a9a-b313-471e-8570-37f316682a1e button');\n",
              "      quickchartButtonEl.style.display =\n",
              "        google.colab.kernel.accessAllowed ? 'block' : 'none';\n",
              "    })();\n",
              "  </script>\n",
              "</div>\n",
              "\n",
              "    </div>\n",
              "  </div>\n"
            ],
            "application/vnd.google.colaboratory.intrinsic+json": {
              "type": "dataframe",
              "variable_name": "statmod_metrics",
              "summary": "{\n  \"name\": \"statmod_metrics\",\n  \"rows\": 6,\n  \"fields\": [\n    {\n      \"column\": \"Method\",\n      \"properties\": {\n        \"dtype\": \"string\",\n        \"num_unique_values\": 6,\n        \"samples\": [\n          \"Gaussian Naive Bayes\",\n          \"Decision Tree Classifier\",\n          \"Gradient Boosting \"\n        ],\n        \"semantic_type\": \"\",\n        \"description\": \"\"\n      }\n    },\n    {\n      \"column\": \"Train Accuracy\",\n      \"properties\": {\n        \"dtype\": \"number\",\n        \"std\": 0.04774896318432132,\n        \"min\": 0.8795114110829804,\n        \"max\": 0.9999788515803912,\n        \"num_unique_values\": 6,\n        \"samples\": [\n          0.8795114110829804,\n          0.9905829108684749,\n          0.9979304760811374\n        ],\n        \"semantic_type\": \"\",\n        \"description\": \"\"\n      }\n    },\n    {\n      \"column\": \"Test Accuracy\",\n      \"properties\": {\n        \"dtype\": \"number\",\n        \"std\": 0.0478883783195116,\n        \"min\": 0.8790384414851528,\n        \"max\": 0.9996442307102504,\n        \"num_unique_values\": 6,\n        \"samples\": [\n          0.8790384414851528,\n          0.9905230421954646,\n          0.9977181693829856\n        ],\n        \"semantic_type\": \"\",\n        \"description\": \"\"\n      }\n    },\n    {\n      \"column\": \"Training Time\",\n      \"properties\": {\n        \"dtype\": \"number\",\n        \"std\": 164.68881264529847,\n        \"min\": 0.6460413932800293,\n        \"max\": 406.6542384624481,\n        \"num_unique_values\": 6,\n        \"samples\": [\n          0.6460413932800293,\n          1.7852756977081299,\n          406.6542384624481\n        ],\n        \"semantic_type\": \"\",\n        \"description\": \"\"\n      }\n    },\n    {\n      \"column\": \"Testing Time\",\n      \"properties\": {\n        \"dtype\": \"number\",\n        \"std\": 27.05294211484265,\n        \"min\": 0.015887975692749023,\n        \"max\": 66.5942735671997,\n        \"num_unique_values\": 6,\n        \"samples\": [\n          0.24069833755493164,\n          0.015887975692749023,\n          1.095271348953247\n        ],\n        \"semantic_type\": \"\",\n        \"description\": \"\"\n      }\n    },\n    {\n      \"column\": \"Precision\",\n      \"properties\": {\n        \"dtype\": \"number\",\n        \"std\": 0.012582485565895314,\n        \"min\": 0.9664786959616349,\n        \"max\": 0.999641385914791,\n        \"num_unique_values\": 6,\n        \"samples\": [\n          0.9664786959616349,\n          0.990204393538205,\n          0.9979187423659648\n        ],\n        \"semantic_type\": \"\",\n        \"description\": \"\"\n      }\n    }\n  ]\n}"
            }
          },
          "metadata": {},
          "execution_count": 106
        }
      ],
      "source": [
        "statmod_metrics.head(6)"
      ]
    },
    {
      "cell_type": "markdown",
      "id": "e72e95dc",
      "metadata": {
        "id": "e72e95dc"
      },
      "source": [
        "#### We have noticeably achieved a high very high accuracy and precision across all models."
      ]
    },
    {
      "cell_type": "markdown",
      "id": "fea5a5f3",
      "metadata": {
        "id": "fea5a5f3"
      },
      "source": [
        "- ### 4.7 Aritificial Neural Network"
      ]
    },
    {
      "cell_type": "markdown",
      "id": "2e996621",
      "metadata": {
        "id": "2e996621"
      },
      "source": [
        "#### Features :\n",
        "\n",
        "&rarr; The input shape : 30\n",
        "\n",
        "&rarr; The output shape : 5 (There are five possible categories)\n",
        "\n",
        "&rarr; Layer 1 ( Input Layer; 30 nodes ; ReLU activation function)\n",
        "\n",
        "&rarr; Layer 2 (Hidden Layer; 1 nodes; Sigmoid activation function)\n",
        "\n",
        "&rarr; Layer 3 (Output Layer ; 5 nodes ; Softmax function)\n",
        "\n",
        "&rarr; The loss function 'Categorical Cross entropy' is used, typical for classfication problems.\n",
        "\n",
        "&rarr; Batch size : 64\n",
        "\n"
      ]
    },
    {
      "cell_type": "code",
      "execution_count": 58,
      "id": "c31817ef",
      "metadata": {
        "id": "c31817ef"
      },
      "outputs": [],
      "source": [
        "def create_model():\n",
        "    model = Sequential([\n",
        "        Dense(30,input_dim =30,activation = 'relu',kernel_initializer='random_uniform'),\n",
        "        Dense(1,activation='sigmoid',kernel_initializer='random_uniform'),\n",
        "        Dense(5,activation='softmax')\n",
        "    ])\n",
        "    model.compile(optimizer='adam',\n",
        "                  loss='sparse_categorical_crossentropy',\n",
        "                  metrics=['accuracy'])\n",
        "    return model"
      ]
    },
    {
      "cell_type": "code",
      "execution_count": null,
      "id": "fe045ef1",
      "metadata": {
        "id": "fe045ef1"
      },
      "outputs": [],
      "source": []
    },
    {
      "cell_type": "markdown",
      "id": "f1e18177",
      "metadata": {
        "id": "f1e18177"
      },
      "source": [
        "- #### Instantiating the classifier :"
      ]
    },
    {
      "cell_type": "code",
      "execution_count": 59,
      "id": "331b682e",
      "metadata": {
        "id": "331b682e"
      },
      "outputs": [],
      "source": [
        "annC = KerasClassifier(build_fn=create_model,epochs=100,batch_size=64)"
      ]
    },
    {
      "cell_type": "markdown",
      "id": "f8c1cb51",
      "metadata": {
        "id": "f8c1cb51"
      },
      "source": [
        "- #### Fitting the model for 100 epochs :"
      ]
    },
    {
      "cell_type": "code",
      "execution_count": 60,
      "id": "8ae4122e",
      "metadata": {
        "id": "8ae4122e",
        "outputId": "ff42a714-e618-4f38-a2e2-93e1ea7bbe31",
        "colab": {
          "base_uri": "https://localhost:8080/",
          "height": 0
        }
      },
      "outputs": [
        {
          "output_type": "stream",
          "name": "stdout",
          "text": [
            "Epoch 1/100\n"
          ]
        },
        {
          "output_type": "stream",
          "name": "stderr",
          "text": [
            "/usr/local/lib/python3.10/dist-packages/scikeras/wrappers.py:925: UserWarning: ``build_fn`` will be renamed to ``model`` in a future release, at which point use of ``build_fn`` will raise an Error instead.\n",
            "  X, y = self._initialize(X, y)\n",
            "/usr/local/lib/python3.10/dist-packages/keras/src/layers/core/dense.py:87: UserWarning: Do not pass an `input_shape`/`input_dim` argument to a layer. When using Sequential models, prefer using an `Input(shape)` object as the first layer in the model instead.\n",
            "  super().__init__(activity_regularizer=activity_regularizer, **kwargs)\n"
          ]
        },
        {
          "output_type": "stream",
          "name": "stdout",
          "text": [
            "\u001b[1m5172/5172\u001b[0m \u001b[32m━━━━━━━━━━━━━━━━━━━━\u001b[0m\u001b[37m\u001b[0m \u001b[1m11s\u001b[0m 2ms/step - accuracy: 0.8999 - loss: 0.7239\n",
            "Epoch 2/100\n",
            "\u001b[1m5172/5172\u001b[0m \u001b[32m━━━━━━━━━━━━━━━━━━━━\u001b[0m\u001b[37m\u001b[0m \u001b[1m10s\u001b[0m 2ms/step - accuracy: 0.9840 - loss: 0.0912\n",
            "Epoch 3/100\n",
            "\u001b[1m5172/5172\u001b[0m \u001b[32m━━━━━━━━━━━━━━━━━━━━\u001b[0m\u001b[37m\u001b[0m \u001b[1m9s\u001b[0m 2ms/step - accuracy: 0.9843 - loss: 0.0712\n",
            "Epoch 4/100\n",
            "\u001b[1m5172/5172\u001b[0m \u001b[32m━━━━━━━━━━━━━━━━━━━━\u001b[0m\u001b[37m\u001b[0m \u001b[1m9s\u001b[0m 2ms/step - accuracy: 0.9845 - loss: 0.0674\n",
            "Epoch 5/100\n",
            "\u001b[1m5172/5172\u001b[0m \u001b[32m━━━━━━━━━━━━━━━━━━━━\u001b[0m\u001b[37m\u001b[0m \u001b[1m9s\u001b[0m 2ms/step - accuracy: 0.9847 - loss: 0.0651\n",
            "Epoch 6/100\n",
            "\u001b[1m5172/5172\u001b[0m \u001b[32m━━━━━━━━━━━━━━━━━━━━\u001b[0m\u001b[37m\u001b[0m \u001b[1m8s\u001b[0m 1ms/step - accuracy: 0.9847 - loss: 0.0638\n",
            "Epoch 7/100\n",
            "\u001b[1m5172/5172\u001b[0m \u001b[32m━━━━━━━━━━━━━━━━━━━━\u001b[0m\u001b[37m\u001b[0m \u001b[1m10s\u001b[0m 1ms/step - accuracy: 0.9849 - loss: 0.0619\n",
            "Epoch 8/100\n",
            "\u001b[1m5172/5172\u001b[0m \u001b[32m━━━━━━━━━━━━━━━━━━━━\u001b[0m\u001b[37m\u001b[0m \u001b[1m12s\u001b[0m 2ms/step - accuracy: 0.9849 - loss: 0.0550\n",
            "Epoch 9/100\n",
            "\u001b[1m5172/5172\u001b[0m \u001b[32m━━━━━━━━━━━━━━━━━━━━\u001b[0m\u001b[37m\u001b[0m \u001b[1m9s\u001b[0m 2ms/step - accuracy: 0.9876 - loss: 0.0407\n",
            "Epoch 10/100\n",
            "\u001b[1m5172/5172\u001b[0m \u001b[32m━━━━━━━━━━━━━━━━━━━━\u001b[0m\u001b[37m\u001b[0m \u001b[1m9s\u001b[0m 1ms/step - accuracy: 0.9891 - loss: 0.0319\n",
            "Epoch 11/100\n",
            "\u001b[1m5172/5172\u001b[0m \u001b[32m━━━━━━━━━━━━━━━━━━━━\u001b[0m\u001b[37m\u001b[0m \u001b[1m11s\u001b[0m 2ms/step - accuracy: 0.9913 - loss: 0.0267\n",
            "Epoch 12/100\n",
            "\u001b[1m5172/5172\u001b[0m \u001b[32m━━━━━━━━━━━━━━━━━━━━\u001b[0m\u001b[37m\u001b[0m \u001b[1m10s\u001b[0m 2ms/step - accuracy: 0.9959 - loss: 0.0232\n",
            "Epoch 13/100\n",
            "\u001b[1m5172/5172\u001b[0m \u001b[32m━━━━━━━━━━━━━━━━━━━━\u001b[0m\u001b[37m\u001b[0m \u001b[1m11s\u001b[0m 2ms/step - accuracy: 0.9965 - loss: 0.0204\n",
            "Epoch 14/100\n",
            "\u001b[1m5172/5172\u001b[0m \u001b[32m━━━━━━━━━━━━━━━━━━━━\u001b[0m\u001b[37m\u001b[0m \u001b[1m10s\u001b[0m 2ms/step - accuracy: 0.9966 - loss: 0.0183\n",
            "Epoch 15/100\n",
            "\u001b[1m5172/5172\u001b[0m \u001b[32m━━━━━━━━━━━━━━━━━━━━\u001b[0m\u001b[37m\u001b[0m \u001b[1m7s\u001b[0m 1ms/step - accuracy: 0.9966 - loss: 0.0170\n",
            "Epoch 16/100\n",
            "\u001b[1m5172/5172\u001b[0m \u001b[32m━━━━━━━━━━━━━━━━━━━━\u001b[0m\u001b[37m\u001b[0m \u001b[1m10s\u001b[0m 2ms/step - accuracy: 0.9966 - loss: 0.0165\n",
            "Epoch 17/100\n",
            "\u001b[1m5172/5172\u001b[0m \u001b[32m━━━━━━━━━━━━━━━━━━━━\u001b[0m\u001b[37m\u001b[0m \u001b[1m8s\u001b[0m 2ms/step - accuracy: 0.9966 - loss: 0.0157\n",
            "Epoch 18/100\n",
            "\u001b[1m5172/5172\u001b[0m \u001b[32m━━━━━━━━━━━━━━━━━━━━\u001b[0m\u001b[37m\u001b[0m \u001b[1m8s\u001b[0m 2ms/step - accuracy: 0.9966 - loss: 0.0145\n",
            "Epoch 19/100\n",
            "\u001b[1m5172/5172\u001b[0m \u001b[32m━━━━━━━━━━━━━━━━━━━━\u001b[0m\u001b[37m\u001b[0m \u001b[1m9s\u001b[0m 2ms/step - accuracy: 0.9967 - loss: 0.0137\n",
            "Epoch 20/100\n",
            "\u001b[1m5172/5172\u001b[0m \u001b[32m━━━━━━━━━━━━━━━━━━━━\u001b[0m\u001b[37m\u001b[0m \u001b[1m8s\u001b[0m 1ms/step - accuracy: 0.9967 - loss: 0.0136\n",
            "Epoch 21/100\n",
            "\u001b[1m5172/5172\u001b[0m \u001b[32m━━━━━━━━━━━━━━━━━━━━\u001b[0m\u001b[37m\u001b[0m \u001b[1m10s\u001b[0m 1ms/step - accuracy: 0.9966 - loss: 0.0135\n",
            "Epoch 22/100\n",
            "\u001b[1m5172/5172\u001b[0m \u001b[32m━━━━━━━━━━━━━━━━━━━━\u001b[0m\u001b[37m\u001b[0m \u001b[1m9s\u001b[0m 2ms/step - accuracy: 0.9968 - loss: 0.0129\n",
            "Epoch 23/100\n",
            "\u001b[1m5172/5172\u001b[0m \u001b[32m━━━━━━━━━━━━━━━━━━━━\u001b[0m\u001b[37m\u001b[0m \u001b[1m10s\u001b[0m 2ms/step - accuracy: 0.9967 - loss: 0.0130\n",
            "Epoch 24/100\n",
            "\u001b[1m5172/5172\u001b[0m \u001b[32m━━━━━━━━━━━━━━━━━━━━\u001b[0m\u001b[37m\u001b[0m \u001b[1m9s\u001b[0m 1ms/step - accuracy: 0.9966 - loss: 0.0130\n",
            "Epoch 25/100\n",
            "\u001b[1m5172/5172\u001b[0m \u001b[32m━━━━━━━━━━━━━━━━━━━━\u001b[0m\u001b[37m\u001b[0m \u001b[1m10s\u001b[0m 2ms/step - accuracy: 0.9968 - loss: 0.0120\n",
            "Epoch 26/100\n",
            "\u001b[1m5172/5172\u001b[0m \u001b[32m━━━━━━━━━━━━━━━━━━━━\u001b[0m\u001b[37m\u001b[0m \u001b[1m9s\u001b[0m 2ms/step - accuracy: 0.9969 - loss: 0.0119\n",
            "Epoch 27/100\n",
            "\u001b[1m5172/5172\u001b[0m \u001b[32m━━━━━━━━━━━━━━━━━━━━\u001b[0m\u001b[37m\u001b[0m \u001b[1m10s\u001b[0m 2ms/step - accuracy: 0.9970 - loss: 0.0113\n",
            "Epoch 28/100\n",
            "\u001b[1m5172/5172\u001b[0m \u001b[32m━━━━━━━━━━━━━━━━━━━━\u001b[0m\u001b[37m\u001b[0m \u001b[1m8s\u001b[0m 2ms/step - accuracy: 0.9970 - loss: 0.0114\n",
            "Epoch 29/100\n",
            "\u001b[1m5172/5172\u001b[0m \u001b[32m━━━━━━━━━━━━━━━━━━━━\u001b[0m\u001b[37m\u001b[0m \u001b[1m11s\u001b[0m 2ms/step - accuracy: 0.9970 - loss: 0.0109\n",
            "Epoch 30/100\n",
            "\u001b[1m5172/5172\u001b[0m \u001b[32m━━━━━━━━━━━━━━━━━━━━\u001b[0m\u001b[37m\u001b[0m \u001b[1m9s\u001b[0m 2ms/step - accuracy: 0.9971 - loss: 0.0105\n",
            "Epoch 31/100\n",
            "\u001b[1m5172/5172\u001b[0m \u001b[32m━━━━━━━━━━━━━━━━━━━━\u001b[0m\u001b[37m\u001b[0m \u001b[1m8s\u001b[0m 1ms/step - accuracy: 0.9970 - loss: 0.0106\n",
            "Epoch 32/100\n",
            "\u001b[1m5172/5172\u001b[0m \u001b[32m━━━━━━━━━━━━━━━━━━━━\u001b[0m\u001b[37m\u001b[0m \u001b[1m11s\u001b[0m 2ms/step - accuracy: 0.9971 - loss: 0.0099\n",
            "Epoch 33/100\n",
            "\u001b[1m5172/5172\u001b[0m \u001b[32m━━━━━━━━━━━━━━━━━━━━\u001b[0m\u001b[37m\u001b[0m \u001b[1m11s\u001b[0m 2ms/step - accuracy: 0.9970 - loss: 0.0108\n",
            "Epoch 34/100\n",
            "\u001b[1m5172/5172\u001b[0m \u001b[32m━━━━━━━━━━━━━━━━━━━━\u001b[0m\u001b[37m\u001b[0m \u001b[1m9s\u001b[0m 2ms/step - accuracy: 0.9972 - loss: 0.0098\n",
            "Epoch 35/100\n",
            "\u001b[1m5172/5172\u001b[0m \u001b[32m━━━━━━━━━━━━━━━━━━━━\u001b[0m\u001b[37m\u001b[0m \u001b[1m8s\u001b[0m 2ms/step - accuracy: 0.9970 - loss: 0.0105\n",
            "Epoch 36/100\n",
            "\u001b[1m5172/5172\u001b[0m \u001b[32m━━━━━━━━━━━━━━━━━━━━\u001b[0m\u001b[37m\u001b[0m \u001b[1m11s\u001b[0m 2ms/step - accuracy: 0.9971 - loss: 0.0101\n",
            "Epoch 37/100\n",
            "\u001b[1m5172/5172\u001b[0m \u001b[32m━━━━━━━━━━━━━━━━━━━━\u001b[0m\u001b[37m\u001b[0m \u001b[1m9s\u001b[0m 2ms/step - accuracy: 0.9970 - loss: 0.0099\n",
            "Epoch 38/100\n",
            "\u001b[1m5172/5172\u001b[0m \u001b[32m━━━━━━━━━━━━━━━━━━━━\u001b[0m\u001b[37m\u001b[0m \u001b[1m10s\u001b[0m 2ms/step - accuracy: 0.9970 - loss: 0.0103\n",
            "Epoch 39/100\n",
            "\u001b[1m5172/5172\u001b[0m \u001b[32m━━━━━━━━━━━━━━━━━━━━\u001b[0m\u001b[37m\u001b[0m \u001b[1m11s\u001b[0m 2ms/step - accuracy: 0.9970 - loss: 0.0101\n",
            "Epoch 40/100\n",
            "\u001b[1m5172/5172\u001b[0m \u001b[32m━━━━━━━━━━━━━━━━━━━━\u001b[0m\u001b[37m\u001b[0m \u001b[1m11s\u001b[0m 2ms/step - accuracy: 0.9973 - loss: 0.0091\n",
            "Epoch 41/100\n",
            "\u001b[1m5172/5172\u001b[0m \u001b[32m━━━━━━━━━━━━━━━━━━━━\u001b[0m\u001b[37m\u001b[0m \u001b[1m9s\u001b[0m 2ms/step - accuracy: 0.9971 - loss: 0.0089\n",
            "Epoch 42/100\n",
            "\u001b[1m5172/5172\u001b[0m \u001b[32m━━━━━━━━━━━━━━━━━━━━\u001b[0m\u001b[37m\u001b[0m \u001b[1m9s\u001b[0m 1ms/step - accuracy: 0.9972 - loss: 0.0094\n",
            "Epoch 43/100\n",
            "\u001b[1m5172/5172\u001b[0m \u001b[32m━━━━━━━━━━━━━━━━━━━━\u001b[0m\u001b[37m\u001b[0m \u001b[1m11s\u001b[0m 2ms/step - accuracy: 0.9971 - loss: 0.0094\n",
            "Epoch 44/100\n",
            "\u001b[1m5172/5172\u001b[0m \u001b[32m━━━━━━━━━━━━━━━━━━━━\u001b[0m\u001b[37m\u001b[0m \u001b[1m11s\u001b[0m 2ms/step - accuracy: 0.9971 - loss: 0.0096\n",
            "Epoch 45/100\n",
            "\u001b[1m5172/5172\u001b[0m \u001b[32m━━━━━━━━━━━━━━━━━━━━\u001b[0m\u001b[37m\u001b[0m \u001b[1m9s\u001b[0m 2ms/step - accuracy: 0.9971 - loss: 0.0092\n",
            "Epoch 46/100\n",
            "\u001b[1m5172/5172\u001b[0m \u001b[32m━━━━━━━━━━━━━━━━━━━━\u001b[0m\u001b[37m\u001b[0m \u001b[1m9s\u001b[0m 1ms/step - accuracy: 0.9970 - loss: 0.0094\n",
            "Epoch 47/100\n",
            "\u001b[1m5172/5172\u001b[0m \u001b[32m━━━━━━━━━━━━━━━━━━━━\u001b[0m\u001b[37m\u001b[0m \u001b[1m11s\u001b[0m 2ms/step - accuracy: 0.9972 - loss: 0.0087\n",
            "Epoch 48/100\n",
            "\u001b[1m5172/5172\u001b[0m \u001b[32m━━━━━━━━━━━━━━━━━━━━\u001b[0m\u001b[37m\u001b[0m \u001b[1m11s\u001b[0m 2ms/step - accuracy: 0.9972 - loss: 0.0086\n",
            "Epoch 49/100\n",
            "\u001b[1m5172/5172\u001b[0m \u001b[32m━━━━━━━━━━━━━━━━━━━━\u001b[0m\u001b[37m\u001b[0m \u001b[1m9s\u001b[0m 2ms/step - accuracy: 0.9972 - loss: 0.0087\n",
            "Epoch 50/100\n",
            "\u001b[1m5172/5172\u001b[0m \u001b[32m━━━━━━━━━━━━━━━━━━━━\u001b[0m\u001b[37m\u001b[0m \u001b[1m8s\u001b[0m 1ms/step - accuracy: 0.9973 - loss: 0.0084\n",
            "Epoch 51/100\n",
            "\u001b[1m5172/5172\u001b[0m \u001b[32m━━━━━━━━━━━━━━━━━━━━\u001b[0m\u001b[37m\u001b[0m \u001b[1m11s\u001b[0m 2ms/step - accuracy: 0.9973 - loss: 0.0078\n",
            "Epoch 52/100\n",
            "\u001b[1m5172/5172\u001b[0m \u001b[32m━━━━━━━━━━━━━━━━━━━━\u001b[0m\u001b[37m\u001b[0m \u001b[1m10s\u001b[0m 2ms/step - accuracy: 0.9971 - loss: 0.0085\n",
            "Epoch 53/100\n",
            "\u001b[1m5172/5172\u001b[0m \u001b[32m━━━━━━━━━━━━━━━━━━━━\u001b[0m\u001b[37m\u001b[0m \u001b[1m8s\u001b[0m 1ms/step - accuracy: 0.9974 - loss: 0.0084\n",
            "Epoch 54/100\n",
            "\u001b[1m5172/5172\u001b[0m \u001b[32m━━━━━━━━━━━━━━━━━━━━\u001b[0m\u001b[37m\u001b[0m \u001b[1m10s\u001b[0m 1ms/step - accuracy: 0.9976 - loss: 0.0080\n",
            "Epoch 55/100\n",
            "\u001b[1m5172/5172\u001b[0m \u001b[32m━━━━━━━━━━━━━━━━━━━━\u001b[0m\u001b[37m\u001b[0m \u001b[1m9s\u001b[0m 2ms/step - accuracy: 0.9978 - loss: 0.0080\n",
            "Epoch 56/100\n",
            "\u001b[1m5172/5172\u001b[0m \u001b[32m━━━━━━━━━━━━━━━━━━━━\u001b[0m\u001b[37m\u001b[0m \u001b[1m9s\u001b[0m 2ms/step - accuracy: 0.9979 - loss: 0.0078\n",
            "Epoch 57/100\n",
            "\u001b[1m5172/5172\u001b[0m \u001b[32m━━━━━━━━━━━━━━━━━━━━\u001b[0m\u001b[37m\u001b[0m \u001b[1m9s\u001b[0m 2ms/step - accuracy: 0.9978 - loss: 0.0081\n",
            "Epoch 58/100\n",
            "\u001b[1m5172/5172\u001b[0m \u001b[32m━━━━━━━━━━━━━━━━━━━━\u001b[0m\u001b[37m\u001b[0m \u001b[1m10s\u001b[0m 2ms/step - accuracy: 0.9982 - loss: 0.0078\n",
            "Epoch 59/100\n",
            "\u001b[1m5172/5172\u001b[0m \u001b[32m━━━━━━━━━━━━━━━━━━━━\u001b[0m\u001b[37m\u001b[0m \u001b[1m9s\u001b[0m 2ms/step - accuracy: 0.9982 - loss: 0.0081\n",
            "Epoch 60/100\n",
            "\u001b[1m5172/5172\u001b[0m \u001b[32m━━━━━━━━━━━━━━━━━━━━\u001b[0m\u001b[37m\u001b[0m \u001b[1m10s\u001b[0m 2ms/step - accuracy: 0.9983 - loss: 0.0080\n",
            "Epoch 61/100\n",
            "\u001b[1m5172/5172\u001b[0m \u001b[32m━━━━━━━━━━━━━━━━━━━━\u001b[0m\u001b[37m\u001b[0m \u001b[1m9s\u001b[0m 2ms/step - accuracy: 0.9984 - loss: 0.0074\n",
            "Epoch 62/100\n",
            "\u001b[1m5172/5172\u001b[0m \u001b[32m━━━━━━━━━━━━━━━━━━━━\u001b[0m\u001b[37m\u001b[0m \u001b[1m11s\u001b[0m 2ms/step - accuracy: 0.9985 - loss: 0.0075\n",
            "Epoch 63/100\n",
            "\u001b[1m5172/5172\u001b[0m \u001b[32m━━━━━━━━━━━━━━━━━━━━\u001b[0m\u001b[37m\u001b[0m \u001b[1m10s\u001b[0m 2ms/step - accuracy: 0.9986 - loss: 0.0071\n",
            "Epoch 64/100\n",
            "\u001b[1m5172/5172\u001b[0m \u001b[32m━━━━━━━━━━━━━━━━━━━━\u001b[0m\u001b[37m\u001b[0m \u001b[1m8s\u001b[0m 2ms/step - accuracy: 0.9986 - loss: 0.0074\n",
            "Epoch 65/100\n",
            "\u001b[1m5172/5172\u001b[0m \u001b[32m━━━━━━━━━━━━━━━━━━━━\u001b[0m\u001b[37m\u001b[0m \u001b[1m11s\u001b[0m 2ms/step - accuracy: 0.9985 - loss: 0.0076\n",
            "Epoch 66/100\n",
            "\u001b[1m5172/5172\u001b[0m \u001b[32m━━━━━━━━━━━━━━━━━━━━\u001b[0m\u001b[37m\u001b[0m \u001b[1m11s\u001b[0m 2ms/step - accuracy: 0.9987 - loss: 0.0076\n",
            "Epoch 67/100\n",
            "\u001b[1m5172/5172\u001b[0m \u001b[32m━━━━━━━━━━━━━━━━━━━━\u001b[0m\u001b[37m\u001b[0m \u001b[1m10s\u001b[0m 2ms/step - accuracy: 0.9986 - loss: 0.0073\n",
            "Epoch 68/100\n",
            "\u001b[1m5172/5172\u001b[0m \u001b[32m━━━━━━━━━━━━━━━━━━━━\u001b[0m\u001b[37m\u001b[0m \u001b[1m9s\u001b[0m 2ms/step - accuracy: 0.9988 - loss: 0.0075\n",
            "Epoch 69/100\n",
            "\u001b[1m5172/5172\u001b[0m \u001b[32m━━━━━━━━━━━━━━━━━━━━\u001b[0m\u001b[37m\u001b[0m \u001b[1m9s\u001b[0m 2ms/step - accuracy: 0.9987 - loss: 0.0071\n",
            "Epoch 70/100\n",
            "\u001b[1m5172/5172\u001b[0m \u001b[32m━━━━━━━━━━━━━━━━━━━━\u001b[0m\u001b[37m\u001b[0m \u001b[1m11s\u001b[0m 2ms/step - accuracy: 0.9988 - loss: 0.0078\n",
            "Epoch 71/100\n",
            "\u001b[1m5172/5172\u001b[0m \u001b[32m━━━━━━━━━━━━━━━━━━━━\u001b[0m\u001b[37m\u001b[0m \u001b[1m18s\u001b[0m 2ms/step - accuracy: 0.9988 - loss: 0.0069\n",
            "Epoch 72/100\n",
            "\u001b[1m5172/5172\u001b[0m \u001b[32m━━━━━━━━━━━━━━━━━━━━\u001b[0m\u001b[37m\u001b[0m \u001b[1m10s\u001b[0m 2ms/step - accuracy: 0.9988 - loss: 0.0072\n",
            "Epoch 73/100\n",
            "\u001b[1m5172/5172\u001b[0m \u001b[32m━━━━━━━━━━━━━━━━━━━━\u001b[0m\u001b[37m\u001b[0m \u001b[1m11s\u001b[0m 2ms/step - accuracy: 0.9987 - loss: 0.0075\n",
            "Epoch 74/100\n",
            "\u001b[1m5172/5172\u001b[0m \u001b[32m━━━━━━━━━━━━━━━━━━━━\u001b[0m\u001b[37m\u001b[0m \u001b[1m11s\u001b[0m 2ms/step - accuracy: 0.9988 - loss: 0.0077\n",
            "Epoch 75/100\n",
            "\u001b[1m5172/5172\u001b[0m \u001b[32m━━━━━━━━━━━━━━━━━━━━\u001b[0m\u001b[37m\u001b[0m \u001b[1m18s\u001b[0m 1ms/step - accuracy: 0.9988 - loss: 0.0074\n",
            "Epoch 76/100\n",
            "\u001b[1m5172/5172\u001b[0m \u001b[32m━━━━━━━━━━━━━━━━━━━━\u001b[0m\u001b[37m\u001b[0m \u001b[1m9s\u001b[0m 2ms/step - accuracy: 0.9989 - loss: 0.0068\n",
            "Epoch 77/100\n",
            "\u001b[1m5172/5172\u001b[0m \u001b[32m━━━━━━━━━━━━━━━━━━━━\u001b[0m\u001b[37m\u001b[0m \u001b[1m9s\u001b[0m 2ms/step - accuracy: 0.9989 - loss: 0.0066\n",
            "Epoch 78/100\n",
            "\u001b[1m5172/5172\u001b[0m \u001b[32m━━━━━━━━━━━━━━━━━━━━\u001b[0m\u001b[37m\u001b[0m \u001b[1m9s\u001b[0m 1ms/step - accuracy: 0.9990 - loss: 0.0067\n",
            "Epoch 79/100\n",
            "\u001b[1m5172/5172\u001b[0m \u001b[32m━━━━━━━━━━━━━━━━━━━━\u001b[0m\u001b[37m\u001b[0m \u001b[1m10s\u001b[0m 1ms/step - accuracy: 0.9989 - loss: 0.0069\n",
            "Epoch 80/100\n",
            "\u001b[1m5172/5172\u001b[0m \u001b[32m━━━━━━━━━━━━━━━━━━━━\u001b[0m\u001b[37m\u001b[0m \u001b[1m11s\u001b[0m 2ms/step - accuracy: 0.9989 - loss: 0.0067\n",
            "Epoch 81/100\n",
            "\u001b[1m5172/5172\u001b[0m \u001b[32m━━━━━━━━━━━━━━━━━━━━\u001b[0m\u001b[37m\u001b[0m \u001b[1m9s\u001b[0m 2ms/step - accuracy: 0.9990 - loss: 0.0069\n",
            "Epoch 82/100\n",
            "\u001b[1m5172/5172\u001b[0m \u001b[32m━━━━━━━━━━━━━━━━━━━━\u001b[0m\u001b[37m\u001b[0m \u001b[1m8s\u001b[0m 2ms/step - accuracy: 0.9989 - loss: 0.0072\n",
            "Epoch 83/100\n",
            "\u001b[1m5172/5172\u001b[0m \u001b[32m━━━━━━━━━━━━━━━━━━━━\u001b[0m\u001b[37m\u001b[0m \u001b[1m10s\u001b[0m 2ms/step - accuracy: 0.9991 - loss: 0.0064\n",
            "Epoch 84/100\n",
            "\u001b[1m5172/5172\u001b[0m \u001b[32m━━━━━━━━━━━━━━━━━━━━\u001b[0m\u001b[37m\u001b[0m \u001b[1m11s\u001b[0m 2ms/step - accuracy: 0.9989 - loss: 0.0077\n",
            "Epoch 85/100\n",
            "\u001b[1m5172/5172\u001b[0m \u001b[32m━━━━━━━━━━━━━━━━━━━━\u001b[0m\u001b[37m\u001b[0m \u001b[1m9s\u001b[0m 2ms/step - accuracy: 0.9990 - loss: 0.0063\n",
            "Epoch 86/100\n",
            "\u001b[1m5172/5172\u001b[0m \u001b[32m━━━━━━━━━━━━━━━━━━━━\u001b[0m\u001b[37m\u001b[0m \u001b[1m9s\u001b[0m 1ms/step - accuracy: 0.9990 - loss: 0.0071\n",
            "Epoch 87/100\n",
            "\u001b[1m5172/5172\u001b[0m \u001b[32m━━━━━━━━━━━━━━━━━━━━\u001b[0m\u001b[37m\u001b[0m \u001b[1m11s\u001b[0m 2ms/step - accuracy: 0.9991 - loss: 0.0063\n",
            "Epoch 88/100\n",
            "\u001b[1m5172/5172\u001b[0m \u001b[32m━━━━━━━━━━━━━━━━━━━━\u001b[0m\u001b[37m\u001b[0m \u001b[1m11s\u001b[0m 2ms/step - accuracy: 0.9991 - loss: 0.0061\n",
            "Epoch 89/100\n",
            "\u001b[1m5172/5172\u001b[0m \u001b[32m━━━━━━━━━━━━━━━━━━━━\u001b[0m\u001b[37m\u001b[0m \u001b[1m9s\u001b[0m 2ms/step - accuracy: 0.9990 - loss: 0.0065\n",
            "Epoch 90/100\n",
            "\u001b[1m5172/5172\u001b[0m \u001b[32m━━━━━━━━━━━━━━━━━━━━\u001b[0m\u001b[37m\u001b[0m \u001b[1m8s\u001b[0m 2ms/step - accuracy: 0.9990 - loss: 0.0065\n",
            "Epoch 91/100\n",
            "\u001b[1m5172/5172\u001b[0m \u001b[32m━━━━━━━━━━━━━━━━━━━━\u001b[0m\u001b[37m\u001b[0m \u001b[1m9s\u001b[0m 2ms/step - accuracy: 0.9990 - loss: 0.0064\n",
            "Epoch 92/100\n",
            "\u001b[1m5172/5172\u001b[0m \u001b[32m━━━━━━━━━━━━━━━━━━━━\u001b[0m\u001b[37m\u001b[0m \u001b[1m10s\u001b[0m 2ms/step - accuracy: 0.9990 - loss: 0.0068\n",
            "Epoch 93/100\n",
            "\u001b[1m5172/5172\u001b[0m \u001b[32m━━━━━━━━━━━━━━━━━━━━\u001b[0m\u001b[37m\u001b[0m \u001b[1m8s\u001b[0m 2ms/step - accuracy: 0.9990 - loss: 0.0066\n",
            "Epoch 94/100\n",
            "\u001b[1m5172/5172\u001b[0m \u001b[32m━━━━━━━━━━━━━━━━━━━━\u001b[0m\u001b[37m\u001b[0m \u001b[1m12s\u001b[0m 2ms/step - accuracy: 0.9990 - loss: 0.0062\n",
            "Epoch 95/100\n",
            "\u001b[1m5172/5172\u001b[0m \u001b[32m━━━━━━━━━━━━━━━━━━━━\u001b[0m\u001b[37m\u001b[0m \u001b[1m10s\u001b[0m 2ms/step - accuracy: 0.9989 - loss: 0.0069\n",
            "Epoch 96/100\n",
            "\u001b[1m5172/5172\u001b[0m \u001b[32m━━━━━━━━━━━━━━━━━━━━\u001b[0m\u001b[37m\u001b[0m \u001b[1m10s\u001b[0m 2ms/step - accuracy: 0.9990 - loss: 0.0068\n",
            "Epoch 97/100\n",
            "\u001b[1m5172/5172\u001b[0m \u001b[32m━━━━━━━━━━━━━━━━━━━━\u001b[0m\u001b[37m\u001b[0m \u001b[1m9s\u001b[0m 2ms/step - accuracy: 0.9989 - loss: 0.0076\n",
            "Epoch 98/100\n",
            "\u001b[1m5172/5172\u001b[0m \u001b[32m━━━━━━━━━━━━━━━━━━━━\u001b[0m\u001b[37m\u001b[0m \u001b[1m11s\u001b[0m 2ms/step - accuracy: 0.9991 - loss: 0.0066\n",
            "Epoch 99/100\n",
            "\u001b[1m5172/5172\u001b[0m \u001b[32m━━━━━━━━━━━━━━━━━━━━\u001b[0m\u001b[37m\u001b[0m \u001b[1m10s\u001b[0m 2ms/step - accuracy: 0.9990 - loss: 0.0063\n",
            "Epoch 100/100\n",
            "\u001b[1m5172/5172\u001b[0m \u001b[32m━━━━━━━━━━━━━━━━━━━━\u001b[0m\u001b[37m\u001b[0m \u001b[1m19s\u001b[0m 2ms/step - accuracy: 0.9991 - loss: 0.0062\n"
          ]
        }
      ],
      "source": [
        "startx = time.time()\n",
        "\n",
        "annC.fit(X_train, Y_train.values.ravel())\n",
        "\n",
        "history = annC.history_\n",
        "\n",
        "endx = time.time()\n",
        "\n",
        "train_timeX= endx-startx"
      ]
    },
    {
      "cell_type": "markdown",
      "id": "b20c9157",
      "metadata": {
        "id": "b20c9157"
      },
      "source": [
        "- #### Visualising the network's performance wrt loss function over the epochs :"
      ]
    },
    {
      "cell_type": "code",
      "execution_count": 63,
      "id": "eb629054",
      "metadata": {
        "id": "eb629054",
        "colab": {
          "base_uri": "https://localhost:8080/",
          "height": 472
        },
        "outputId": "ebac756d-9981-4c91-d833-96bd8b123a22"
      },
      "outputs": [
        {
          "output_type": "display_data",
          "data": {
            "text/plain": [
              "<Figure size 640x480 with 1 Axes>"
            ],
            "image/png": "[encoded data removed]"
          },
          "metadata": {}
        }
      ],
      "source": [
        "plt.plot(history['loss'])\n",
        "plt.title('Training Loss Over Epochs')\n",
        "plt.xlabel('Epochs')\n",
        "plt.ylabel('Loss')\n",
        "plt.show()"
      ]
    },
    {
      "cell_type": "markdown",
      "id": "5a2b2a46",
      "metadata": {
        "id": "5a2b2a46"
      },
      "source": [
        "We can observe the training loss goes down very fast, becoming 0 at the 60-80th epoch."
      ]
    },
    {
      "cell_type": "markdown",
      "id": "361e8c5e",
      "metadata": {
        "id": "361e8c5e"
      },
      "source": [
        "<br>"
      ]
    },
    {
      "cell_type": "markdown",
      "id": "ced54445",
      "metadata": {
        "id": "ced54445"
      },
      "source": [
        "- #### Making predictions :"
      ]
    },
    {
      "cell_type": "code",
      "execution_count": 64,
      "id": "7381cceb",
      "metadata": {
        "id": "7381cceb",
        "colab": {
          "base_uri": "https://localhost:8080/",
          "height": 0
        },
        "outputId": "915c8008-eeb3-4c38-a166-b2f5eda6548c"
      },
      "outputs": [
        {
          "output_type": "stream",
          "name": "stdout",
          "text": [
            "\u001b[1m2548/2548\u001b[0m \u001b[32m━━━━━━━━━━━━━━━━━━━━\u001b[0m\u001b[37m\u001b[0m \u001b[1m3s\u001b[0m 1ms/step\n"
          ]
        }
      ],
      "source": [
        "startx1 = time.time()\n",
        "Y_test_pred7 = annC.predict(X_test)\n",
        "endx1 = time.time()\n",
        "test_timex1=endx1-startx1"
      ]
    },
    {
      "cell_type": "code",
      "execution_count": 65,
      "id": "22592631",
      "metadata": {
        "id": "22592631",
        "colab": {
          "base_uri": "https://localhost:8080/",
          "height": 0
        },
        "outputId": "fbf69113-54cf-416d-dc06-4156391a68e5"
      },
      "outputs": [
        {
          "output_type": "stream",
          "name": "stdout",
          "text": [
            "\u001b[1m5172/5172\u001b[0m \u001b[32m━━━━━━━━━━━━━━━━━━━━\u001b[0m\u001b[37m\u001b[0m \u001b[1m6s\u001b[0m 1ms/step\n"
          ]
        }
      ],
      "source": [
        "# Generating training predictions\n",
        "Y_train_pred7 = annC.predict(X_train)\n"
      ]
    },
    {
      "cell_type": "markdown",
      "id": "90f8e1a2",
      "metadata": {
        "id": "90f8e1a2"
      },
      "source": [
        "- #### Checking the network's performance :"
      ]
    },
    {
      "cell_type": "code",
      "execution_count": 85,
      "id": "e82c4825",
      "metadata": {
        "id": "e82c4825",
        "colab": {
          "base_uri": "https://localhost:8080/",
          "height": 0
        },
        "outputId": "fa8dece1-e0dd-4301-c521-219a8ac4613f"
      },
      "outputs": [
        {
          "output_type": "stream",
          "name": "stdout",
          "text": [
            "Training scores: 0.9991570844184486\n"
          ]
        }
      ],
      "source": [
        "tra_scorex1=accuracy_score(Y_train,Y_train_pred7)\n",
        "print(\"Training scores:\",tra_scorex1)"
      ]
    },
    {
      "cell_type": "code",
      "execution_count": 84,
      "id": "a9f3cf69",
      "metadata": {
        "id": "a9f3cf69",
        "colab": {
          "base_uri": "https://localhost:8080/",
          "height": 0
        },
        "outputId": "371087ab-f228-4646-8423-b3a70cb14501"
      },
      "outputs": [
        {
          "output_type": "stream",
          "name": "stdout",
          "text": [
            "Testing accuracy: 0.9988345488784066\n"
          ]
        }
      ],
      "source": [
        "test_scorex1=accuracy_score(Y_test,Y_test_pred7)\n",
        "print(\"Testing accuracy:\",test_scorex1)"
      ]
    },
    {
      "cell_type": "code",
      "source": [
        "precision1 = precision_score(Y_test,Y_test_pred7, average='weighted')\n",
        "print(precision1)"
      ],
      "metadata": {
        "colab": {
          "base_uri": "https://localhost:8080/",
          "height": 0
        },
        "id": "E2aGix98_oHb",
        "outputId": "1fe3d985-eaaa-49c6-849b-29ce03806871"
      },
      "id": "E2aGix98_oHb",
      "execution_count": 87,
      "outputs": [
        {
          "output_type": "stream",
          "name": "stdout",
          "text": [
            "0.9987258568816139\n"
          ]
        },
        {
          "output_type": "stream",
          "name": "stderr",
          "text": [
            "/usr/local/lib/python3.10/dist-packages/sklearn/metrics/_classification.py:1509: UndefinedMetricWarning: Precision is ill-defined and being set to 0.0 in labels with no predicted samples. Use `zero_division` parameter to control this behavior.\n",
            "  _warn_prf(average, modifier, f\"{metric.capitalize()} is\", len(result))\n"
          ]
        }
      ]
    },
    {
      "cell_type": "code",
      "execution_count": 88,
      "id": "8d9d273d",
      "metadata": {
        "id": "8d9d273d"
      },
      "outputs": [],
      "source": [
        "new_row1 = {'Method': 'Neural Network', 'Train Accuracy': tra_scorex1, 'Test Accuracy': test_scorex1,'Training Time':train_timeX,'Testing Time':test_timex1,'Precision':precision1}"
      ]
    },
    {
      "cell_type": "code",
      "execution_count": 107,
      "id": "cd0732be",
      "metadata": {
        "id": "cd0732be"
      },
      "outputs": [],
      "source": [
        "statmod_metrics = statmod_metrics._append(new_row1, ignore_index=True)"
      ]
    },
    {
      "cell_type": "code",
      "execution_count": 114,
      "id": "c2c4b6bc",
      "metadata": {
        "id": "c2c4b6bc",
        "colab": {
          "base_uri": "https://localhost:8080/",
          "height": 269
        },
        "outputId": "76562a6f-d91b-4b93-ea4f-f5b80acfb95c"
      },
      "outputs": [
        {
          "output_type": "execute_result",
          "data": {
            "text/plain": [
              "                      Method  Train Accuracy  Test Accuracy  Training Time  \\\n",
              "0       Gaussian Naive Bayes        0.879511       0.879038       0.646041   \n",
              "1   Decision Tree Classifier        0.990583       0.990523       1.785276   \n",
              "2   Random Forest Classifier        0.999979       0.999644       9.630461   \n",
              "3  Support Vector Classifier        0.998755       0.998792     174.219209   \n",
              "4        Logistic Regression        0.993504       0.993480       8.441094   \n",
              "5         Gradient Boosting         0.997930       0.997718     406.654238   \n",
              "6             Neural Network        0.999157       0.998835     992.465198   \n",
              "\n",
              "   Testing Time  Precision  \n",
              "0      0.240698   0.966479  \n",
              "1      0.015888   0.990204  \n",
              "2      0.299757   0.999641  \n",
              "3     66.594274   0.998782  \n",
              "4      0.025799   0.993573  \n",
              "5      1.095271   0.997919  \n",
              "6      4.399953   0.998726  "
            ],
            "text/html": [
              "\n",
              "  <div id=\"df-8db55fdd-6673-422d-8d7e-92f66f6eeb77\" class=\"colab-df-container\">\n",
              "    <div>\n",
              "<style scoped>\n",
              "    .dataframe tbody tr th:only-of-type {\n",
              "        vertical-align: middle;\n",
              "    }\n",
              "\n",
              "    .dataframe tbody tr th {\n",
              "        vertical-align: top;\n",
              "    }\n",
              "\n",
              "    .dataframe thead th {\n",
              "        text-align: right;\n",
              "    }\n",
              "</style>\n",
              "<table border=\"1\" class=\"dataframe\">\n",
              "  <thead>\n",
              "    <tr style=\"text-align: right;\">\n",
              "      <th></th>\n",
              "      <th>Method</th>\n",
              "      <th>Train Accuracy</th>\n",
              "      <th>Test Accuracy</th>\n",
              "      <th>Training Time</th>\n",
              "      <th>Testing Time</th>\n",
              "      <th>Precision</th>\n",
              "    </tr>\n",
              "  </thead>\n",
              "  <tbody>\n",
              "    <tr>\n",
              "      <th>0</th>\n",
              "      <td>Gaussian Naive Bayes</td>\n",
              "      <td>0.879511</td>\n",
              "      <td>0.879038</td>\n",
              "      <td>0.646041</td>\n",
              "      <td>0.240698</td>\n",
              "      <td>0.966479</td>\n",
              "    </tr>\n",
              "    <tr>\n",
              "      <th>1</th>\n",
              "      <td>Decision Tree Classifier</td>\n",
              "      <td>0.990583</td>\n",
              "      <td>0.990523</td>\n",
              "      <td>1.785276</td>\n",
              "      <td>0.015888</td>\n",
              "      <td>0.990204</td>\n",
              "    </tr>\n",
              "    <tr>\n",
              "      <th>2</th>\n",
              "      <td>Random Forest Classifier</td>\n",
              "      <td>0.999979</td>\n",
              "      <td>0.999644</td>\n",
              "      <td>9.630461</td>\n",
              "      <td>0.299757</td>\n",
              "      <td>0.999641</td>\n",
              "    </tr>\n",
              "    <tr>\n",
              "      <th>3</th>\n",
              "      <td>Support Vector Classifier</td>\n",
              "      <td>0.998755</td>\n",
              "      <td>0.998792</td>\n",
              "      <td>174.219209</td>\n",
              "      <td>66.594274</td>\n",
              "      <td>0.998782</td>\n",
              "    </tr>\n",
              "    <tr>\n",
              "      <th>4</th>\n",
              "      <td>Logistic Regression</td>\n",
              "      <td>0.993504</td>\n",
              "      <td>0.993480</td>\n",
              "      <td>8.441094</td>\n",
              "      <td>0.025799</td>\n",
              "      <td>0.993573</td>\n",
              "    </tr>\n",
              "    <tr>\n",
              "      <th>5</th>\n",
              "      <td>Gradient Boosting</td>\n",
              "      <td>0.997930</td>\n",
              "      <td>0.997718</td>\n",
              "      <td>406.654238</td>\n",
              "      <td>1.095271</td>\n",
              "      <td>0.997919</td>\n",
              "    </tr>\n",
              "    <tr>\n",
              "      <th>6</th>\n",
              "      <td>Neural Network</td>\n",
              "      <td>0.999157</td>\n",
              "      <td>0.998835</td>\n",
              "      <td>992.465198</td>\n",
              "      <td>4.399953</td>\n",
              "      <td>0.998726</td>\n",
              "    </tr>\n",
              "  </tbody>\n",
              "</table>\n",
              "</div>\n",
              "    <div class=\"colab-df-buttons\">\n",
              "\n",
              "  <div class=\"colab-df-container\">\n",
              "    <button class=\"colab-df-convert\" onclick=\"convertToInteractive('df-8db55fdd-6673-422d-8d7e-92f66f6eeb77')\"\n",
              "            title=\"Convert this dataframe to an interactive table.\"\n",
              "            style=\"display:none;\">\n",
              "\n",
              "  <svg xmlns=\"http://www.w3.org/2000/svg\" height=\"24px\" viewBox=\"0 -960 960 960\">\n",
              "    <path d=\"M120-120v-720h720v720H120Zm60-500h600v-160H180v160Zm220 220h160v-160H400v160Zm0 220h160v-160H400v160ZM180-400h160v-160H180v160Zm440 0h160v-160H620v160ZM180-180h160v-160H180v160Zm440 0h160v-160H620v160Z\"/>\n",
              "  </svg>\n",
              "    </button>\n",
              "\n",
              "  <style>\n",
              "    .colab-df-container {\n",
              "      display:flex;\n",
              "      gap: 12px;\n",
              "    }\n",
              "\n",
              "    .colab-df-convert {\n",
              "      background-color: #E8F0FE;\n",
              "      border: none;\n",
              "      border-radius: 50%;\n",
              "      cursor: pointer;\n",
              "      display: none;\n",
              "      fill: #1967D2;\n",
              "      height: 32px;\n",
              "      padding: 0 0 0 0;\n",
              "      width: 32px;\n",
              "    }\n",
              "\n",
              "    .colab-df-convert:hover {\n",
              "      background-color: #E2EBFA;\n",
              "      box-shadow: 0px 1px 2px rgba(60, 64, 67, 0.3), 0px 1px 3px 1px rgba(60, 64, 67, 0.15);\n",
              "      fill: #174EA6;\n",
              "    }\n",
              "\n",
              "    .colab-df-buttons div {\n",
              "      margin-bottom: 4px;\n",
              "    }\n",
              "\n",
              "    [theme=dark] .colab-df-convert {\n",
              "      background-color: #3B4455;\n",
              "      fill: #D2E3FC;\n",
              "    }\n",
              "\n",
              "    [theme=dark] .colab-df-convert:hover {\n",
              "      background-color: #434B5C;\n",
              "      box-shadow: 0px 1px 3px 1px rgba(0, 0, 0, 0.15);\n",
              "      filter: drop-shadow(0px 1px 2px rgba(0, 0, 0, 0.3));\n",
              "      fill: #FFFFFF;\n",
              "    }\n",
              "  </style>\n",
              "\n",
              "    <script>\n",
              "      const buttonEl =\n",
              "        document.querySelector('#df-8db55fdd-6673-422d-8d7e-92f66f6eeb77 button.colab-df-convert');\n",
              "      buttonEl.style.display =\n",
              "        google.colab.kernel.accessAllowed ? 'block' : 'none';\n",
              "\n",
              "      async function convertToInteractive(key) {\n",
              "        const element = document.querySelector('#df-8db55fdd-6673-422d-8d7e-92f66f6eeb77');\n",
              "        const dataTable =\n",
              "          await google.colab.kernel.invokeFunction('convertToInteractive',\n",
              "                                                    [key], {});\n",
              "        if (!dataTable) return;\n",
              "\n",
              "        const docLinkHtml = 'Like what you see? Visit the ' +\n",
              "          '<a target=\"_blank\" href=https://colab.research.google.com/notebooks/data_table.ipynb>data table notebook</a>'\n",
              "          + ' to learn more about interactive tables.';\n",
              "        element.innerHTML = '';\n",
              "        dataTable['output_type'] = 'display_data';\n",
              "        await google.colab.output.renderOutput(dataTable, element);\n",
              "        const docLink = document.createElement('div');\n",
              "        docLink.innerHTML = docLinkHtml;\n",
              "        element.appendChild(docLink);\n",
              "      }\n",
              "    </script>\n",
              "  </div>\n",
              "\n",
              "\n",
              "<div id=\"df-54106a06-6303-4d3d-bdd7-ee3f77a387f1\">\n",
              "  <button class=\"colab-df-quickchart\" onclick=\"quickchart('df-54106a06-6303-4d3d-bdd7-ee3f77a387f1')\"\n",
              "            title=\"Suggest charts\"\n",
              "            style=\"display:none;\">\n",
              "\n",
              "<svg xmlns=\"http://www.w3.org/2000/svg\" height=\"24px\"viewBox=\"0 0 24 24\"\n",
              "     width=\"24px\">\n",
              "    <g>\n",
              "        <path d=\"M19 3H5c-1.1 0-2 .9-2 2v14c0 1.1.9 2 2 2h14c1.1 0 2-.9 2-2V5c0-1.1-.9-2-2-2zM9 17H7v-7h2v7zm4 0h-2V7h2v10zm4 0h-2v-4h2v4z\"/>\n",
              "    </g>\n",
              "</svg>\n",
              "  </button>\n",
              "\n",
              "<style>\n",
              "  .colab-df-quickchart {\n",
              "      --bg-color: #E8F0FE;\n",
              "      --fill-color: #1967D2;\n",
              "      --hover-bg-color: #E2EBFA;\n",
              "      --hover-fill-color: #174EA6;\n",
              "      --disabled-fill-color: #AAA;\n",
              "      --disabled-bg-color: #DDD;\n",
              "  }\n",
              "\n",
              "  [theme=dark] .colab-df-quickchart {\n",
              "      --bg-color: #3B4455;\n",
              "      --fill-color: #D2E3FC;\n",
              "      --hover-bg-color: #434B5C;\n",
              "      --hover-fill-color: #FFFFFF;\n",
              "      --disabled-bg-color: #3B4455;\n",
              "      --disabled-fill-color: #666;\n",
              "  }\n",
              "\n",
              "  .colab-df-quickchart {\n",
              "    background-color: var(--bg-color);\n",
              "    border: none;\n",
              "    border-radius: 50%;\n",
              "    cursor: pointer;\n",
              "    display: none;\n",
              "    fill: var(--fill-color);\n",
              "    height: 32px;\n",
              "    padding: 0;\n",
              "    width: 32px;\n",
              "  }\n",
              "\n",
              "  .colab-df-quickchart:hover {\n",
              "    background-color: var(--hover-bg-color);\n",
              "    box-shadow: 0 1px 2px rgba(60, 64, 67, 0.3), 0 1px 3px 1px rgba(60, 64, 67, 0.15);\n",
              "    fill: var(--button-hover-fill-color);\n",
              "  }\n",
              "\n",
              "  .colab-df-quickchart-complete:disabled,\n",
              "  .colab-df-quickchart-complete:disabled:hover {\n",
              "    background-color: var(--disabled-bg-color);\n",
              "    fill: var(--disabled-fill-color);\n",
              "    box-shadow: none;\n",
              "  }\n",
              "\n",
              "  .colab-df-spinner {\n",
              "    border: 2px solid var(--fill-color);\n",
              "    border-color: transparent;\n",
              "    border-bottom-color: var(--fill-color);\n",
              "    animation:\n",
              "      spin 1s steps(1) infinite;\n",
              "  }\n",
              "\n",
              "  @keyframes spin {\n",
              "    0% {\n",
              "      border-color: transparent;\n",
              "      border-bottom-color: var(--fill-color);\n",
              "      border-left-color: var(--fill-color);\n",
              "    }\n",
              "    20% {\n",
              "      border-color: transparent;\n",
              "      border-left-color: var(--fill-color);\n",
              "      border-top-color: var(--fill-color);\n",
              "    }\n",
              "    30% {\n",
              "      border-color: transparent;\n",
              "      border-left-color: var(--fill-color);\n",
              "      border-top-color: var(--fill-color);\n",
              "      border-right-color: var(--fill-color);\n",
              "    }\n",
              "    40% {\n",
              "      border-color: transparent;\n",
              "      border-right-color: var(--fill-color);\n",
              "      border-top-color: var(--fill-color);\n",
              "    }\n",
              "    60% {\n",
              "      border-color: transparent;\n",
              "      border-right-color: var(--fill-color);\n",
              "    }\n",
              "    80% {\n",
              "      border-color: transparent;\n",
              "      border-right-color: var(--fill-color);\n",
              "      border-bottom-color: var(--fill-color);\n",
              "    }\n",
              "    90% {\n",
              "      border-color: transparent;\n",
              "      border-bottom-color: var(--fill-color);\n",
              "    }\n",
              "  }\n",
              "</style>\n",
              "\n",
              "  <script>\n",
              "    async function quickchart(key) {\n",
              "      const quickchartButtonEl =\n",
              "        document.querySelector('#' + key + ' button');\n",
              "      quickchartButtonEl.disabled = true;  // To prevent multiple clicks.\n",
              "      quickchartButtonEl.classList.add('colab-df-spinner');\n",
              "      try {\n",
              "        const charts = await google.colab.kernel.invokeFunction(\n",
              "            'suggestCharts', [key], {});\n",
              "      } catch (error) {\n",
              "        console.error('Error during call to suggestCharts:', error);\n",
              "      }\n",
              "      quickchartButtonEl.classList.remove('colab-df-spinner');\n",
              "      quickchartButtonEl.classList.add('colab-df-quickchart-complete');\n",
              "    }\n",
              "    (() => {\n",
              "      let quickchartButtonEl =\n",
              "        document.querySelector('#df-54106a06-6303-4d3d-bdd7-ee3f77a387f1 button');\n",
              "      quickchartButtonEl.style.display =\n",
              "        google.colab.kernel.accessAllowed ? 'block' : 'none';\n",
              "    })();\n",
              "  </script>\n",
              "</div>\n",
              "\n",
              "    </div>\n",
              "  </div>\n"
            ],
            "application/vnd.google.colaboratory.intrinsic+json": {
              "type": "dataframe",
              "variable_name": "statmod_metrics",
              "summary": "{\n  \"name\": \"statmod_metrics\",\n  \"rows\": 7,\n  \"fields\": [\n    {\n      \"column\": \"Method\",\n      \"properties\": {\n        \"dtype\": \"string\",\n        \"num_unique_values\": 7,\n        \"samples\": [\n          \"Gaussian Naive Bayes\",\n          \"Decision Tree Classifier\",\n          \"Gradient Boosting \"\n        ],\n        \"semantic_type\": \"\",\n        \"description\": \"\"\n      }\n    },\n    {\n      \"column\": \"Train Accuracy\",\n      \"properties\": {\n        \"dtype\": \"number\",\n        \"std\": 0.044406617419506376,\n        \"min\": 0.8795114110829804,\n        \"max\": 0.9999788515803912,\n        \"num_unique_values\": 7,\n        \"samples\": [\n          0.8795114110829804,\n          0.9905829108684749,\n          0.9979304760811374\n        ],\n        \"semantic_type\": \"\",\n        \"description\": \"\"\n      }\n    },\n    {\n      \"column\": \"Test Accuracy\",\n      \"properties\": {\n        \"dtype\": \"number\",\n        \"std\": 0.044521174993828815,\n        \"min\": 0.8790384414851528,\n        \"max\": 0.9996442307102504,\n        \"num_unique_values\": 7,\n        \"samples\": [\n          0.8790384414851528,\n          0.9905230421954646,\n          0.9977181693829856\n        ],\n        \"semantic_type\": \"\",\n        \"description\": \"\"\n      }\n    },\n    {\n      \"column\": \"Training Time\",\n      \"properties\": {\n        \"dtype\": \"number\",\n        \"std\": 369.2267543149637,\n        \"min\": 0.6460413932800293,\n        \"max\": 992.4651982784271,\n        \"num_unique_values\": 7,\n        \"samples\": [\n          0.6460413932800293,\n          1.7852756977081299,\n          406.6542384624481\n        ],\n        \"semantic_type\": \"\",\n        \"description\": \"\"\n      }\n    },\n    {\n      \"column\": \"Testing Time\",\n      \"properties\": {\n        \"dtype\": \"number\",\n        \"std\": 24.836306464018502,\n        \"min\": 0.015887975692749023,\n        \"max\": 66.5942735671997,\n        \"num_unique_values\": 7,\n        \"samples\": [\n          0.24069833755493164,\n          0.015887975692749023,\n          1.095271348953247\n        ],\n        \"semantic_type\": \"\",\n        \"description\": \"\"\n      }\n    },\n    {\n      \"column\": \"Precision\",\n      \"properties\": {\n        \"dtype\": \"number\",\n        \"std\": 0.011842321354838807,\n        \"min\": 0.9664786959616349,\n        \"max\": 0.999641385914791,\n        \"num_unique_values\": 7,\n        \"samples\": [\n          0.9664786959616349,\n          0.990204393538205,\n          0.9979187423659648\n        ],\n        \"semantic_type\": \"\",\n        \"description\": \"\"\n      }\n    }\n  ]\n}"
            }
          },
          "metadata": {},
          "execution_count": 114
        }
      ],
      "source": [
        "statmod_metrics.head(8)"
      ]
    },
    {
      "cell_type": "markdown",
      "source": [
        "## Visualisations :"
      ],
      "metadata": {
        "id": "IYp9nNJhJIdo"
      },
      "id": "IYp9nNJhJIdo"
    },
    {
      "cell_type": "markdown",
      "source": [
        "1. Plotting for Training accuracy"
      ],
      "metadata": {
        "id": "6435XLbcHIgV"
      },
      "id": "6435XLbcHIgV"
    },
    {
      "cell_type": "code",
      "source": [
        "methods = statmod_metrics['Method']\n",
        "train_accuracy = statmod_metrics['Train Accuracy']\n",
        "\n",
        "# Creating the bar plot\n",
        "plt.figure(figsize=(10, 6))\n",
        "plt.bar(methods, train_accuracy, color='skyblue')\n",
        "\n",
        "# Adding labels and title\n",
        "plt.xlabel('Method')\n",
        "plt.ylabel('Train Accuracy')\n",
        "plt.title('Train Accuracy by Method')\n",
        "plt.xticks(rotation=45, ha='right')  # Rotating x-axis labels for better readability\n",
        "plt.tight_layout()\n",
        "plt.savefig('train_acc.png')\n",
        "# Displaying the plot\n",
        "plt.show()\n"
      ],
      "metadata": {
        "colab": {
          "base_uri": "https://localhost:8080/",
          "height": 607
        },
        "id": "MBX9WqHuHrfK",
        "outputId": "5ea85c67-caa0-4454-e1e5-dc809bb155c8"
      },
      "id": "MBX9WqHuHrfK",
      "execution_count": 130,
      "outputs": [
        {
          "output_type": "display_data",
          "data": {
            "text/plain": [
              "<Figure size 1000x600 with 1 Axes>"
            ],
            "image/png": "[encoded data removed]"
          },
          "metadata": {}
        }
      ]
    },
    {
      "cell_type": "markdown",
      "source": [],
      "metadata": {
        "id": "oEBp96pYKg4J"
      },
      "id": "oEBp96pYKg4J"
    },
    {
      "cell_type": "markdown",
      "source": [
        "2. Plotting for testing accuracy"
      ],
      "metadata": {
        "id": "9hVA92SKKgwx"
      },
      "id": "9hVA92SKKgwx"
    },
    {
      "cell_type": "code",
      "source": [
        "test_accuracy = statmod_metrics['Test Accuracy']\n",
        "# Creating the bar plot\n",
        "plt.figure(figsize=(10, 6))\n",
        "plt.bar(methods, test_accuracy, color='darkblue')\n",
        "\n",
        "# Adding labels and title\n",
        "plt.xlabel('Method')\n",
        "plt.ylabel('Test Accuracy')\n",
        "plt.title('Test Accuracy by Method')\n",
        "plt.xticks(rotation=45, ha='right')  # Rotating x-axis labels for better readability\n",
        "plt.tight_layout()\n",
        "plt.savefig('test_acc.png')\n",
        "# Displaying the plot\n",
        "plt.show()"
      ],
      "metadata": {
        "colab": {
          "base_uri": "https://localhost:8080/",
          "height": 607
        },
        "id": "qM8zL9e9Kgnq",
        "outputId": "a0a9618a-82be-40a9-f59e-d32b32ef1d90"
      },
      "id": "qM8zL9e9Kgnq",
      "execution_count": 132,
      "outputs": [
        {
          "output_type": "display_data",
          "data": {
            "text/plain": [
              "<Figure size 1000x600 with 1 Axes>"
            ],
            "image/png": "[encoded data removed]"
          },
          "metadata": {}
        }
      ]
    },
    {
      "cell_type": "markdown",
      "source": [
        "3. Plotting for training time"
      ],
      "metadata": {
        "id": "8ZXLLBBoK_8S"
      },
      "id": "8ZXLLBBoK_8S"
    },
    {
      "cell_type": "code",
      "source": [
        "tra_time = statmod_metrics['Training Time']\n",
        "# Creating the bar plot\n",
        "plt.figure(figsize=(10, 6))\n",
        "plt.bar(methods, tra_time, color='green')\n",
        "\n",
        "# Adding labels and title\n",
        "plt.xlabel('Method')\n",
        "plt.ylabel('Training Time (seconds)')\n",
        "plt.title('Training Time by Method')\n",
        "plt.xticks(rotation=45, ha='right')  # Rotating x-axis labels for better readability\n",
        "plt.tight_layout()\n",
        "plt.savefig('train_time.png')\n",
        "# Displaying the plot\n",
        "plt.show()"
      ],
      "metadata": {
        "id": "fr_SofEXK_mL",
        "colab": {
          "base_uri": "https://localhost:8080/",
          "height": 607
        },
        "outputId": "cc846f7c-c7ca-4885-e76e-f2e7dd46c423"
      },
      "id": "fr_SofEXK_mL",
      "execution_count": 133,
      "outputs": [
        {
          "output_type": "display_data",
          "data": {
            "text/plain": [
              "<Figure size 1000x600 with 1 Axes>"
            ],
            "image/png": "[encoded data removed]"
          },
          "metadata": {}
        }
      ]
    },
    {
      "cell_type": "markdown",
      "source": [
        "4. Plotting for Testing time"
      ],
      "metadata": {
        "id": "gMGlrFpVLAoT"
      },
      "id": "gMGlrFpVLAoT"
    },
    {
      "cell_type": "code",
      "source": [
        "tes_time = statmod_metrics['Testing Time']\n",
        "# Creating the bar plot\n",
        "plt.figure(figsize=(10, 6))\n",
        "plt.bar(methods, tes_time, color='red')\n",
        "\n",
        "# Adding labels and title\n",
        "plt.xlabel('Method')\n",
        "plt.ylabel('Testing Time (seconds)')\n",
        "plt.title('Testing Time by Method')\n",
        "plt.xticks(rotation=45, ha='right')  # Rotating x-axis labels for better readability\n",
        "plt.tight_layout()\n",
        "plt.savefig('testtime.png')\n",
        "# Displaying the plot\n",
        "plt.show()"
      ],
      "metadata": {
        "colab": {
          "base_uri": "https://localhost:8080/",
          "height": 607
        },
        "id": "LW3PM2oRK-yB",
        "outputId": "15a75467-cd7b-4317-c801-cdebcd0c75ce"
      },
      "id": "LW3PM2oRK-yB",
      "execution_count": 134,
      "outputs": [
        {
          "output_type": "display_data",
          "data": {
            "text/plain": [
              "<Figure size 1000x600 with 1 Axes>"
            ],
            "image/png": "[encoded data removed]"
          },
          "metadata": {}
        }
      ]
    }
  ],
  "metadata": {
    "colab": {
      "provenance": [],
      "include_colab_link": true
    },
    "kernelspec": {
      "display_name": "Python 3 (ipykernel)",
      "language": "python",
      "name": "python3"
    },
    "language_info": {
      "codemirror_mode": {
        "name": "ipython",
        "version": 3
      },
      "file_extension": ".py",
      "mimetype": "text/x-python",
      "name": "python",
      "nbconvert_exporter": "python",
      "pygments_lexer": "ipython3",
      "version": "3.11.1"
    }
  },
  "nbformat": 4,
  "nbformat_minor": 5
}